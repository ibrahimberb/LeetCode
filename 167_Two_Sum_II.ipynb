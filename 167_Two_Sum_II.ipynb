{
 "cells": [
  {
   "cell_type": "markdown",
   "metadata": {},
   "source": [
    "# 167. Two Sum II\n",
    "\n",
    "\n",
    "Given a 1-indexed array of integers numbers that is already sorted in non-decreasing order, find two numbers such that they add up to a specific target number. Let these two numbers be numbers[index1] and numbers[index2] where 1 <= index1 < index2 < numbers.length.\n",
    "\n",
    "Return the indices of the two numbers, index1 and index2, added by one as an integer array [index1, index2] of length 2.\n",
    "\n",
    "The tests are generated such that there is exactly one solution. You may not use the same element twice.\n",
    "\n",
    "Your solution must use only constant extra space.\n",
    "\n",
    "**Example 1:**\n",
    "```\n",
    "Input: numbers = [2,7,11,15], target = 9\n",
    "Output: [1,2]\n",
    "Explanation: The sum of 2 and 7 is 9. Therefore, index1 = 1, index2 = 2. We return [1, 2].\n",
    "```\n",
    "\n",
    "**Example 2:**\n",
    "```\n",
    "Input: numbers = [2,3,4], target = 6\n",
    "Output: [1,3]\n",
    "Explanation: The sum of 2 and 4 is 6. Therefore index1 = 1, index2 = 3. We return [1, 3].\n",
    "```\n",
    "\n",
    "**Example 3:**\n",
    "```\n",
    "Input: numbers = [-1,0], target = -1\n",
    "Output: [1,2]\n",
    "Explanation: The sum of -1 and 0 is -1. Therefore index1 = 1, index2 = 2. We return [1, 2].\n",
    "```\n",
    "\n",
    "**Constraints:**\n",
    "```\n",
    "2 <= numbers.length <= 3 * 104\n",
    "-1000 <= numbers[i] <= 1000\n",
    "numbers is sorted in non-decreasing order.\n",
    "-1000 <= target <= 1000\n",
    "```\n",
    "\n",
    "The tests are generated such that there is exactly one solution."
   ]
  },
  {
   "cell_type": "code",
   "execution_count": 30,
   "metadata": {},
   "outputs": [],
   "source": [
    "def test_two_sum_II(fun):\n",
    "    assert fun([2, 7, 11, 15], 9) == [1, 2], fun([2, 7, 11, 15], 9)\n",
    "    assert fun([2, 3, 4], 6) == [1, 3]\n",
    "    assert fun([-1, 0], -1) == [1, 2]\n",
    "    print(\"All tests passed.\")"
   ]
  },
  {
   "cell_type": "code",
   "execution_count": 31,
   "metadata": {},
   "outputs": [
    {
     "name": "stdout",
     "output_type": "stream",
     "text": [
      "All tests passed.\n"
     ]
    }
   ],
   "source": [
    "# Bruteforce solution.\n",
    "def two_sum_II(numbers, target):\n",
    "    for i in range(len(numbers)):\n",
    "        for j in range(i + 1, len(numbers)):\n",
    "            if numbers[i] + numbers[j] == target:\n",
    "                return [i + 1, j + 1]\n",
    "\n",
    "\n",
    "numbers = [2, 7, 11, 15]\n",
    "target = 9\n",
    "test_two_sum_II(two_sum_II)"
   ]
  },
  {
   "cell_type": "code",
   "execution_count": 32,
   "metadata": {},
   "outputs": [
    {
     "name": "stdout",
     "output_type": "stream",
     "text": [
      "All tests passed.\n"
     ]
    }
   ],
   "source": [
    "# Original two-sum solution works well.\n",
    "def two_sum_II(numbers, target):\n",
    "    complements = {}\n",
    "    for i, n in enumerate(numbers):\n",
    "        complements[target - n] = i\n",
    "\n",
    "    for i, n in enumerate(numbers):\n",
    "        if n in complements:\n",
    "            return [i + 1, complements[n] + 1]\n",
    "\n",
    "\n",
    "numbers = [2, 7, 11, 15]\n",
    "target = 9\n",
    "test_two_sum_II(two_sum_II)"
   ]
  },
  {
   "cell_type": "code",
   "execution_count": 33,
   "metadata": {},
   "outputs": [
    {
     "name": "stdout",
     "output_type": "stream",
     "text": [
      "All tests passed.\n"
     ]
    }
   ],
   "source": [
    "# Two pointer approach.\n",
    "def two_sum_II(numbers, target):\n",
    "    L = 0\n",
    "    R = len(numbers) - 1\n",
    "    while numbers[L] + numbers[R] != target:\n",
    "        if numbers[L] + numbers[R] < target:\n",
    "            L += 1\n",
    "        else:\n",
    "            R -= 1\n",
    "\n",
    "    return [L + 1, R + 1]\n",
    "\n",
    "\n",
    "numbers = [2, 7, 11, 15]\n",
    "target = 9\n",
    "test_two_sum_II(two_sum_II)"
   ]
  },
  {
   "cell_type": "code",
   "execution_count": 39,
   "metadata": {},
   "outputs": [
    {
     "name": "stdout",
     "output_type": "stream",
     "text": [
      "All tests passed.\n"
     ]
    }
   ],
   "source": [
    "# Two pointer approach (ms optimized.)\n",
    "def two_sum_II(numbers, target):\n",
    "    L = 0\n",
    "    R = len(numbers) - 1\n",
    "    while L < R:\n",
    "        check = numbers[L] + numbers[R]\n",
    "        if check == target:\n",
    "            return [L + 1, R + 1]\n",
    "        elif check < target:\n",
    "            L += 1\n",
    "        else:\n",
    "            R -= 1\n",
    "\n",
    "\n",
    "numbers = [2, 7, 11, 15]\n",
    "target = 9\n",
    "test_two_sum_II(two_sum_II)"
   ]
  },
  {
   "cell_type": "code",
   "execution_count": 37,
   "metadata": {},
   "outputs": [
    {
     "name": "stderr",
     "output_type": "stream",
     "text": [
      "  0%|          | 0/4 [00:00<?, ?it/s]\n",
      "  0%|          | 0/3 [00:00<?, ?it/s]\n",
      "  0%|          | 0/2 [00:00<?, ?it/s]"
     ]
    },
    {
     "name": "stdout",
     "output_type": "stream",
     "text": [
      "All tests passed.\n"
     ]
    },
    {
     "name": "stderr",
     "output_type": "stream",
     "text": [
      "\n"
     ]
    }
   ],
   "source": [
    "# Why don't we make use of sorted array? Yes, you got it right! Binary Search Approach.\n",
    "# Original two-sum solution works well.\n",
    "from tqdm import tqdm\n",
    "\n",
    "\n",
    "def two_sum_II(numbers, target):\n",
    "    for i in tqdm(range(len(numbers))):\n",
    "        complement = target - numbers[i]\n",
    "        # we know it complement should appear later,\n",
    "        # since the array is sorted in a non-decreasing order.\n",
    "        L = i + 1\n",
    "        R = len(numbers) - 1\n",
    "        while L <= R:\n",
    "            mid = (L + R) // 2\n",
    "            # print(numbers[mid])\n",
    "            if numbers[mid] == complement:\n",
    "                return [i + 1, mid + 1]\n",
    "            elif numbers[mid] < complement:\n",
    "                L = mid + 1\n",
    "            else:\n",
    "                R = mid - 1\n",
    "\n",
    "\n",
    "numbers = [2, 7, 11, 15]\n",
    "target = 9\n",
    "test_two_sum_II(two_sum_II)"
   ]
  },
  {
   "cell_type": "code",
   "execution_count": null,
   "metadata": {},
   "outputs": [],
   "source": []
  }
 ],
 "metadata": {
  "kernelspec": {
   "display_name": "CaseTA",
   "language": "python",
   "name": "python3"
  },
  "language_info": {
   "codemirror_mode": {
    "name": "ipython",
    "version": 3
   },
   "file_extension": ".py",
   "mimetype": "text/x-python",
   "name": "python",
   "nbconvert_exporter": "python",
   "pygments_lexer": "ipython3",
   "version": "3.10.9"
  },
  "orig_nbformat": 4
 },
 "nbformat": 4,
 "nbformat_minor": 2
}
