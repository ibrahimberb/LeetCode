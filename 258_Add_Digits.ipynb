{
 "cells": [
  {
   "cell_type": "markdown",
   "source": [
    "# 258. Add Digits\n",
    "\n",
    "Given an integer num, repeatedly add all its digits until the result has only one digit, and return it.\n",
    "\n",
    "\n",
    "\n",
    "**Example 1:**\n",
    "```\n",
    "Input: num = 38\n",
    "Output: 2\n",
    "Explanation: The process is\n",
    "38 --> 3 + 8 --> 11\n",
    "11 --> 1 + 1 --> 2\n",
    "Since 2 has only one digit, return it.\n",
    "```\n",
    "\n",
    "**Example 2:**\n",
    "```\n",
    "Input: num = 0\n",
    "Output: 0\n",
    "```\n",
    "\n",
    "**Constraints:**\n",
    "```\n",
    "0 <= num <= 231 - 1\n",
    "```\n",
    "\n",
    "Follow up: Could you do it without any loop/recursion in O(1) runtime?"
   ],
   "metadata": {
    "collapsed": false
   },
   "outputs": [
    {
     "ename": "SyntaxError",
     "evalue": "invalid syntax (1424408812.py, line 3)",
     "output_type": "error",
     "traceback": [
      "\u001B[1;36m  Cell \u001B[1;32mIn[1], line 3\u001B[1;36m\u001B[0m\n\u001B[1;33m    Given an integer num, repeatedly add all its digits until the result has only one digit, and return it.\u001B[0m\n\u001B[1;37m          ^\u001B[0m\n\u001B[1;31mSyntaxError\u001B[0m\u001B[1;31m:\u001B[0m invalid syntax\n"
     ]
    }
   ],
   "execution_count": 1
  },
  {
   "cell_type": "code",
   "execution_count": 2,
   "outputs": [],
   "source": [
    "def test_add_digits(f):\n",
    "    assert f(38) == 2\n",
    "    assert f(0) == 0\n",
    "    print(\"Passed all tests.\")"
   ],
   "metadata": {
    "collapsed": false
   }
  },
  {
   "cell_type": "code",
   "execution_count": 16,
   "outputs": [
    {
     "name": "stdout",
     "output_type": "stream",
     "text": [
      "Passed all tests.\n"
     ]
    }
   ],
   "source": [
    "def add_digits(n):\n",
    "    while 10 < n:\n",
    "        n = sum(int(c) for c in str(n))\n",
    "\n",
    "    return n\n",
    "\n",
    "test_add_digits(add_digits)"
   ],
   "metadata": {
    "collapsed": false
   }
  },
  {
   "cell_type": "markdown",
   "source": [
    "without using Pythonic features."
   ],
   "metadata": {
    "collapsed": false
   }
  },
  {
   "cell_type": "code",
   "execution_count": 26,
   "outputs": [
    {
     "name": "stdout",
     "output_type": "stream",
     "text": [
      "Passed all tests.\n"
     ]
    }
   ],
   "source": [
    "def add_digits(n):\n",
    "    if n < 10:\n",
    "        return n\n",
    "\n",
    "    digit_sum = 0\n",
    "    while 0 < n:\n",
    "        digit_sum += n % 10\n",
    "        n = n // 10\n",
    "\n",
    "    return add_digits(digit_sum)\n",
    "\n",
    "test_add_digits(add_digits)"
   ],
   "metadata": {
    "collapsed": false
   }
  },
  {
   "cell_type": "code",
   "execution_count": 27,
   "outputs": [
    {
     "name": "stdout",
     "output_type": "stream",
     "text": [
      "2\n",
      "Passed all tests.\n"
     ]
    }
   ],
   "source": [
    "\n",
    "def add_digits(n):\n",
    "    if n < 10:\n",
    "        return n\n",
    "\n",
    "    n = n % 10 + add_digits(n // 10)\n",
    "    if 10 < n:\n",
    "        n = n % 10 + add_digits(n // 10)\n",
    "\n",
    "    return n\n",
    "\n",
    "print(add_digits(38))\n",
    "test_add_digits(add_digits)"
   ],
   "metadata": {
    "collapsed": false
   }
  },
  {
   "cell_type": "markdown",
   "source": [
    "A very clever approach:"
   ],
   "metadata": {
    "collapsed": false
   }
  },
  {
   "cell_type": "code",
   "execution_count": 5,
   "outputs": [
    {
     "name": "stdout",
     "output_type": "stream",
     "text": [
      "2\n",
      "Passed all tests.\n"
     ]
    }
   ],
   "source": [
    "\n",
    "def add_digits(n):\n",
    "    if n == 0:\n",
    "        return 0\n",
    "    elif n % 9 == 0:\n",
    "        return 9\n",
    "    else:\n",
    "        return n % 9\n",
    "\n",
    "print(add_digits(38))\n",
    "test_add_digits(add_digits)"
   ],
   "metadata": {
    "collapsed": false
   }
  },
  {
   "cell_type": "code",
   "execution_count": null,
   "outputs": [],
   "source": [],
   "metadata": {
    "collapsed": false
   }
  },
  {
   "cell_type": "code",
   "execution_count": null,
   "outputs": [],
   "source": [],
   "metadata": {
    "collapsed": false
   }
  }
 ],
 "metadata": {
  "kernelspec": {
   "display_name": "Python 3",
   "language": "python",
   "name": "python3"
  },
  "language_info": {
   "codemirror_mode": {
    "name": "ipython",
    "version": 2
   },
   "file_extension": ".py",
   "mimetype": "text/x-python",
   "name": "python",
   "nbconvert_exporter": "python",
   "pygments_lexer": "ipython2",
   "version": "2.7.6"
  }
 },
 "nbformat": 4,
 "nbformat_minor": 0
}
