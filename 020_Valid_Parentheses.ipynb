{
 "cells": [
  {
   "attachments": {},
   "cell_type": "markdown",
   "metadata": {},
   "source": [
    "# 20. Valid Parentheses"
   ]
  },
  {
   "attachments": {},
   "cell_type": "markdown",
   "metadata": {},
   "source": [
    "https://leetcode.com/problems/valid-parentheses/"
   ]
  },
  {
   "cell_type": "code",
   "execution_count": 8,
   "metadata": {},
   "outputs": [
    {
     "name": "stdout",
     "output_type": "stream",
     "text": [
      "False\n"
     ]
    }
   ],
   "source": [
    "def is_valid(string: str) -> bool:\n",
    "    match = {\n",
    "        \")\": \"(\",\n",
    "        \"]\": \"[\",\n",
    "        \"}\": \"{\",\n",
    "    }\n",
    "    stack = []\n",
    "    for char in string:\n",
    "        # opening\n",
    "        if char in match.values():\n",
    "            stack.append(char)\n",
    "\n",
    "        # closing\n",
    "        else:\n",
    "            if not stack:\n",
    "                return False\n",
    "\n",
    "            item = stack.pop()\n",
    "            if item != match[char]:\n",
    "                return False\n",
    "\n",
    "\n",
    "    return False if stack else True\n",
    "\n",
    "\n",
    "s = \"(]\"\n",
    "print(is_valid(s))"
   ]
  },
  {
   "cell_type": "code",
   "execution_count": 8,
   "metadata": {},
   "outputs": [
    {
     "ename": "IndexError",
     "evalue": "pop from empty list",
     "output_type": "error",
     "traceback": [
      "\u001b[1;31m---------------------------------------------------------------------------\u001b[0m",
      "\u001b[1;31mIndexError\u001b[0m                                Traceback (most recent call last)",
      "Cell \u001b[1;32mIn[8], line 14\u001b[0m\n\u001b[0;32m     11\u001b[0m previous_cube \u001b[39m=\u001b[39m \u001b[39mmax\u001b[39m(cube_sizes[left], cube_sizes[right])\n\u001b[0;32m     12\u001b[0m new_dict \u001b[39m=\u001b[39m {key: (\u001b[39m'\u001b[39m\u001b[39meven\u001b[39m\u001b[39m'\u001b[39m \u001b[39mif\u001b[39;00m value \u001b[39m%\u001b[39m \u001b[39m2\u001b[39m \u001b[39m==\u001b[39m \u001b[39m0\u001b[39m \u001b[39melse\u001b[39;00m \u001b[39m'\u001b[39m\u001b[39modd\u001b[39m\u001b[39m'\u001b[39m) \u001b[39mfor\u001b[39;00m key, value \u001b[39min\u001b[39;00m original_dict\u001b[39m.\u001b[39mitems() \u001b[39mif\u001b[39;00m value \u001b[39m>\u001b[39m \u001b[39m2\u001b[39m}\n\u001b[1;32m---> 14\u001b[0m item \u001b[39m=\u001b[39m L\u001b[39m.\u001b[39;49mpop()\n\u001b[0;32m     15\u001b[0m item, L\n",
      "\u001b[1;31mIndexError\u001b[0m: pop from empty list"
     ]
    }
   ],
   "source": [
    "L = []\n",
    "x = 3\n",
    "x = 3\n",
    "x = 3\n",
    "x = 3\n",
    "original_dict = {'a': 1, 'b': 2, 'c': 3, 'd': 4}\n",
    "num_cubes = 2\n",
    "cube_sizes = [1, 2, 3]\n",
    "left = 0\n",
    "right = num_cubes - 1\n",
    "previous_cube = max(cube_sizes[left], cube_sizes[right])\n",
    "new_dict = {key: ('even' if value % 2 == 0 else 'odd') for key, value in original_dict.items() if value > 2}\n",
    "\n",
    "item = L.pop()\n",
    "item, L"
   ]
  },
  {
   "cell_type": "code",
   "execution_count": null,
   "metadata": {},
   "outputs": [],
   "source": []
  }
 ],
 "metadata": {
  "kernelspec": {
   "display_name": "CaseTA",
   "language": "python",
   "name": "python3"
  },
  "language_info": {
   "codemirror_mode": {
    "name": "ipython",
    "version": 3
   },
   "file_extension": ".py",
   "mimetype": "text/x-python",
   "name": "python",
   "nbconvert_exporter": "python",
   "pygments_lexer": "ipython3",
   "version": "3.10.9"
  },
  "orig_nbformat": 4
 },
 "nbformat": 4,
 "nbformat_minor": 2
}
