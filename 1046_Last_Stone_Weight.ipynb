{
 "cells": [
  {
   "cell_type": "markdown",
   "metadata": {},
   "source": [
    "# 1046. Last Stone Weight\n",
    "\n",
    "**Status:** Solved  \n",
    "**Difficulty:** Easy  \n",
    "**Topics:** Array, Heap, Simulation  \n",
    "**Companies:** Unknown  \n",
    "**Hint:** Use a max heap to always get the heaviest stones.\n",
    "\n",
    "\n",
    "You are given an array of integers `stones` where `stones[i]` is the weight of the ith stone.\n",
    "\n",
    "We are playing a game with the stones. On each turn, we choose the heaviest two stones and smash them together. Suppose the heaviest two stones have weights `x` and `y` with `x <= y`. The result of this smash is:\n",
    "\n",
    "- If `x == y`, both stones are destroyed.\n",
    "- If `x != y`, the stone of weight `x` is destroyed, and the stone of weight `y` has new weight `y - x`.\n",
    "\n",
    "At the end of the game, there is at most one stone left.\n",
    "\n",
    "**Return the weight of the last remaining stone.** If there are no stones left, return `0`.\n",
    "\n",
    "### Example 1:\n",
    "**Input:**  \n",
    "`stones = [2,7,4,1,8,1]`  \n",
    "\n",
    "**Output:**  \n",
    "`1`\n",
    "\n",
    "**Explanation:**  \n",
    "1. Combine 7 and 8 to get 1, so the array becomes `[2,4,1,1,1]`.\n",
    "2. Combine 2 and 4 to get 2, so the array becomes `[2,1,1,1]`.\n",
    "3. Combine 2 and 1 to get 1, so the array becomes `[1,1,1]`.\n",
    "4. Combine 1 and 1 to get 0, so the array becomes `[1]`.\n",
    "\n",
    "The weight of the last stone is `1`.\n",
    "\n",
    "\n",
    "### Example 2:\n",
    "**Input:**  \n",
    "`stones = [1]`  \n",
    "\n",
    "**Output:**  \n",
    "`1`\n",
    "\n",
    "### Constraints:\n",
    "- `1 <= stones.length <= 30`\n",
    "- `1 <= stones[i] <= 1000`\n"
   ]
  },
  {
   "cell_type": "code",
   "execution_count": 1,
   "metadata": {},
   "outputs": [],
   "source": [
    "import heapq\n",
    "\n",
    "\n",
    "def lastStoneWeight(stones):\n",
    "    # Convert all stone weights to negative to create a max-heap.\n",
    "    max_heap = [-stone for stone in stones]\n",
    "    heapq.heapify(max_heap)\n",
    "\n",
    "    while len(max_heap) > 1:\n",
    "        # Pop the two heaviest stones.\n",
    "        first = -heapq.heappop(max_heap)\n",
    "        second = -heapq.heappop(max_heap)\n",
    "\n",
    "        # If they are not equal, push the difference back onto the heap.\n",
    "        if first != second:\n",
    "            heapq.heappush(max_heap, -(first - second))\n",
    "\n",
    "    # If there's one stone left, return its weight; otherwise, return 0.\n",
    "    return -max_heap[0] if max_heap else 0\n",
    "\n",
    "\n",
    "stones = [2,7,4,1,8,1]\n",
    "assert lastStoneWeight(stones) == 1"
   ]
  },
  {
   "cell_type": "code",
   "execution_count": null,
   "metadata": {},
   "outputs": [],
   "source": []
  }
 ],
 "metadata": {
  "kernelspec": {
   "display_name": "AISkills",
   "language": "python",
   "name": "python3"
  },
  "language_info": {
   "codemirror_mode": {
    "name": "ipython",
    "version": 3
   },
   "file_extension": ".py",
   "mimetype": "text/x-python",
   "name": "python",
   "nbconvert_exporter": "python",
   "pygments_lexer": "ipython3",
   "version": "3.10.12"
  },
  "orig_nbformat": 4
 },
 "nbformat": 4,
 "nbformat_minor": 2
}
