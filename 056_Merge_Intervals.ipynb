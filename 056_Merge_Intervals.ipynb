{
 "cells": [
  {
   "cell_type": "markdown",
   "metadata": {},
   "source": [
    "## 56. Merge Intervals (Medium)\n",
    "\n",
    "### Problem:\n",
    "Given an array of intervals where `intervals[i] = [starti, endi]`, merge all overlapping intervals and return an array of the non-overlapping intervals that cover all the intervals in the input.\n",
    "\n",
    "### Example 1:\n",
    "**Input**: \n",
    "intervals = [[1, 3], [2, 6], [8, 10], [15, 18]]\n",
    "\n",
    "**Output**: \n",
    "[[1, 6], [8, 10], [15, 18]]\n",
    "\n",
    "**Explanation**: \n",
    "Since intervals [1, 3] and [2, 6] overlap, merge them into [1, 6].\n",
    "\n",
    "### Example 2:\n",
    "**Input**: \n",
    "intervals = [[1, 4], [4, 5]]\n",
    "\n",
    "**Output**: \n",
    "[[1, 5]]\n",
    "\n",
    "**Explanation**: \n",
    "Intervals [1, 4] and [4, 5] are considered overlapping.\n",
    "\n",
    "### Constraints:\n",
    "- 1 <= intervals.length <= 10^4\n",
    "- intervals[i].length == 2\n",
    "- 0 <= starti <= endi <= 10^4\n",
    "\n"
   ]
  },
  {
   "cell_type": "code",
   "execution_count": 10,
   "metadata": {},
   "outputs": [
    {
     "data": {
      "text/plain": [
       "[[1, 6], [8, 10], [15, 18]]"
      ]
     },
     "execution_count": 10,
     "metadata": {},
     "output_type": "execute_result"
    }
   ],
   "source": [
    "from typing import List\n",
    "\n",
    "class Solution:\n",
    "    def merge(self, intervals: List[List[int]]) -> List[List[int]]:\n",
    "        start = 0\n",
    "        end = 1\n",
    "\n",
    "        # Sort the intervals based on the starting time of each interval\n",
    "        intervals.sort(key=lambda interval: interval[start])\n",
    "        \n",
    "        # Initialize the result list with the first interval\n",
    "        merged_intervals = [intervals[0]]\n",
    "\n",
    "        # Iterate over the remaining intervals, starting from the second one\n",
    "        for i in range(1, len(intervals)):\n",
    "            current_interval = intervals[i]\n",
    "            last_merged_interval = merged_intervals[-1]  # Get the last interval in the merged list\n",
    "\n",
    "            # If the current interval does not overlap with the last merged interval, append it\n",
    "            if last_merged_interval[end] < current_interval[start]:\n",
    "                merged_intervals.append(current_interval)\n",
    "            else:\n",
    "                # If there is an overlap, merge the intervals by updating the end time\n",
    "                last_merged_interval[end] = max(last_merged_interval[end], current_interval[end])\n",
    "\n",
    "        # Return the list of merged intervals\n",
    "        return merged_intervals\n",
    "\n",
    "\n",
    "s = Solution()\n",
    "s.merge([[1,3],[2,6],[8,10],[15,18]])"
   ]
  },
  {
   "cell_type": "code",
   "execution_count": null,
   "metadata": {},
   "outputs": [],
   "source": []
  }
 ],
 "metadata": {
  "kernelspec": {
   "display_name": "AISkills",
   "language": "python",
   "name": "python3"
  },
  "language_info": {
   "codemirror_mode": {
    "name": "ipython",
    "version": 3
   },
   "file_extension": ".py",
   "mimetype": "text/x-python",
   "name": "python",
   "nbconvert_exporter": "python",
   "pygments_lexer": "ipython3",
   "version": "3.10.12"
  },
  "orig_nbformat": 4
 },
 "nbformat": 4,
 "nbformat_minor": 2
}
