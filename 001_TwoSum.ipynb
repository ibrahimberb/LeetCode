{
 "cells": [
  {
   "attachments": {},
   "cell_type": "markdown",
   "metadata": {},
   "source": [
    "# Two Sum\n",
    "https://leetcode.com/problems/two-sum/"
   ]
  },
  {
   "cell_type": "code",
   "execution_count": 2,
   "metadata": {},
   "outputs": [
    {
     "name": "stdout",
     "output_type": "stream",
     "text": [
      "[0, 1]\n",
      "[1, 2]\n",
      "[0, 1]\n"
     ]
    }
   ],
   "source": [
    "def two_sum(nums, target):\n",
    "    for i in range(len(nums)):\n",
    "        for j in range(i + 1, len(nums)):\n",
    "            if nums[i] + nums[j] == target:\n",
    "                return [i, j]\n",
    "\n",
    "\n",
    "print(two_sum([2, 7, 11, 15], 9))\n",
    "print(two_sum([3, 2, 4], 6))\n",
    "print(two_sum([3, 3], 6))"
   ]
  },
  {
   "cell_type": "code",
   "execution_count": 13,
   "metadata": {},
   "outputs": [
    {
     "name": "stdout",
     "output_type": "stream",
     "text": [
      "[0, 1]\n",
      "[1, 2]\n",
      "[0, 1]\n"
     ]
    }
   ],
   "source": [
    "def two_sum(nums, target):\n",
    "    remainings = {}\n",
    "    for i in range(len(nums)):\n",
    "        remainings[target - nums[i]] = i\n",
    "    \n",
    "    for i in range(len(nums)):\n",
    "        if nums[i] in remainings and i != remainings[nums[i]]:\n",
    "            return [i, remainings[nums[i]]]\n",
    "\n",
    "\n",
    "print(two_sum([2, 7, 11, 15], 9))\n",
    "print(two_sum([3, 2, 4], 6))\n",
    "print(two_sum([3, 3], 6))"
   ]
  },
  {
   "cell_type": "code",
   "execution_count": 16,
   "metadata": {},
   "outputs": [
    {
     "name": "stdout",
     "output_type": "stream",
     "text": [
      "[0, 1]\n",
      "[1, 2]\n",
      "[0, 1]\n"
     ]
    }
   ],
   "source": [
    "def two_sum(nums, target):\n",
    "    compliments = {}\n",
    "    for i, num in enumerate(nums):\n",
    "        if target - num in compliments:\n",
    "            return [compliments[target - num], i]\n",
    "        compliments[num] = i\n",
    "    return []\n",
    "\n",
    "\n",
    "print(two_sum([2, 7, 11, 15], 9))\n",
    "print(two_sum([3, 2, 4], 6))\n",
    "print(two_sum([3, 3], 6))"
   ]
  },
  {
   "cell_type": "code",
   "execution_count": null,
   "metadata": {},
   "outputs": [],
   "source": []
  }
 ],
 "metadata": {
  "kernelspec": {
   "display_name": "Python 3",
   "language": "python",
   "name": "python3"
  },
  "language_info": {
   "codemirror_mode": {
    "name": "ipython",
    "version": 3
   },
   "file_extension": ".py",
   "mimetype": "text/x-python",
   "name": "python",
   "nbconvert_exporter": "python",
   "pygments_lexer": "ipython3",
   "version": "3.10.6 (tags/v3.10.6:9c7b4bd, Aug  1 2022, 21:53:49) [MSC v.1932 64 bit (AMD64)]"
  },
  "orig_nbformat": 4,
  "vscode": {
   "interpreter": {
    "hash": "3a87835ef3302642c595255454695d8396bb68a285bd230835682c4a4880a3d8"
   }
  }
 },
 "nbformat": 4,
 "nbformat_minor": 2
}
