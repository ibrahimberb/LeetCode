{
 "cells": [
  {
   "attachments": {},
   "cell_type": "markdown",
   "metadata": {},
   "source": [
    "# 560. Subarray Sum Equals K\n",
    "\n",
    "https://leetcode.com/problems/subarray-sum-equals-k/description/"
   ]
  },
  {
   "attachments": {},
   "cell_type": "markdown",
   "metadata": {},
   "source": [
    "Given an array of integers nums and an integer k, return the total number of subarrays whose sum equals to k.\n",
    "\n",
    "A subarray is a contiguous **non-empty** sequence of elements within an array.\n",
    "\n",
    " \n",
    "**Example 1:**\n",
    "\n",
    "```\n",
    "Input: nums = [1,1,1], k = 2\n",
    "Output: 2\n",
    "```\n",
    "\n",
    "**Example 2:**\n",
    "\n",
    "```\n",
    "Input: nums = [1,2,3], k = 3\n",
    "Output: 2\n",
    "```\n",
    "\n",
    "**Constraints:**\n",
    "\n",
    "```\n",
    "1 <= nums.length <= 2 * 104\n",
    "-1000 <= nums[i] <= 1000\n",
    "-107 <= k <= 107\n",
    "```"
   ]
  },
  {
   "attachments": {},
   "cell_type": "markdown",
   "metadata": {},
   "source": [
    "## Bruteforce solution"
   ]
  },
  {
   "attachments": {},
   "cell_type": "markdown",
   "metadata": {},
   "source": [
    "The first intuitive approach is trying out each possible combination of subset and see if the sum of that subset is going to be equal to $k$. \n",
    "Note that such an approach requires two `for` loops for start and end indices as well as an additional loop-like implementation for the `sum` operation. Therefore the run time of bruteforce solution will roughly be $O(n^3)$."
   ]
  },
  {
   "cell_type": "code",
   "execution_count": 6,
   "metadata": {},
   "outputs": [],
   "source": [
    "from typing import List\n",
    "\n",
    "def subset_sum(nums: List[int], k: int) -> int:\n",
    "    total = 0\n",
    "    n = len(nums)\n",
    "    for i in range(n):\n",
    "        for j in range(i+1, n+1):\n",
    "            if sum(nums[i:j]) == k:\n",
    "                total += 1\n",
    "\n",
    "    return total\n",
    "\n",
    "\n",
    "assert subset_sum([1,1,1], 2) == 2\n",
    "assert subset_sum([1,2,3], 3) == 2"
   ]
  },
  {
   "attachments": {},
   "cell_type": "markdown",
   "metadata": {},
   "source": [
    "Sliding window approach is not possible, because we have negative numbers. Therefore, adding a value does not guarantee that it will increase the total, and removing a value does not guarantee that it will decrease the total.\n",
    "\n",
    "\n",
    "```\n",
    "remove        add\n",
    "   ↓           ↓  \n",
    "  [1,    1,    1]\n",
    "       ------++++\n",
    "  window size\n",
    "```"
   ]
  },
  {
   "attachments": {},
   "cell_type": "markdown",
   "metadata": {},
   "source": [
    "Using the idea in the bruteforce solution, we can have $O(n)$ algorithm as follows:"
   ]
  },
  {
   "cell_type": "code",
   "execution_count": 22,
   "metadata": {},
   "outputs": [],
   "source": [
    "def subset_sum(nums: List[int], k: int) -> int:\n",
    "    res = 0\n",
    "    cur_sum = 0\n",
    "    prefix_sums = {0: 1}\n",
    "    \n",
    "    for num in nums:\n",
    "        cur_sum += num\n",
    "        diff = cur_sum - k\n",
    "        res += prefix_sums.get(diff, 0)\n",
    "        prefix_sums[cur_sum] = 1 + prefix_sums.get(cur_sum, 0)\n",
    "\n",
    "    return res\n",
    "\n",
    "\n",
    "assert subset_sum([1, 1, 1], 2) == 2\n",
    "assert subset_sum([1, 2, 3], 3) == 2\n",
    "assert subset_sum([1, 2, 1, 2, 1], 3) == 4"
   ]
  },
  {
   "cell_type": "code",
   "execution_count": null,
   "metadata": {},
   "outputs": [],
   "source": []
  },
  {
   "cell_type": "code",
   "execution_count": null,
   "metadata": {},
   "outputs": [],
   "source": []
  }
 ],
 "metadata": {
  "kernelspec": {
   "display_name": "CaseTA",
   "language": "python",
   "name": "python3"
  },
  "language_info": {
   "codemirror_mode": {
    "name": "ipython",
    "version": 3
   },
   "file_extension": ".py",
   "mimetype": "text/x-python",
   "name": "python",
   "nbconvert_exporter": "python",
   "pygments_lexer": "ipython3",
   "version": "3.10.9"
  },
  "orig_nbformat": 4
 },
 "nbformat": 4,
 "nbformat_minor": 2
}
