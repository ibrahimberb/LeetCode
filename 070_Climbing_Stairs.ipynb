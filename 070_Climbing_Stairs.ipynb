{
 "cells": [
  {
   "attachments": {},
   "cell_type": "markdown",
   "metadata": {},
   "source": [
    "# 070_Climbing_Stairs"
   ]
  },
  {
   "attachments": {},
   "cell_type": "markdown",
   "metadata": {},
   "source": [
    "https://leetcode.com/problems/climbing-stairs/"
   ]
  },
  {
   "cell_type": "code",
   "execution_count": 9,
   "metadata": {},
   "outputs": [
    {
     "name": "stdout",
     "output_type": "stream",
     "text": [
      "2\n",
      "3\n",
      "5\n"
     ]
    }
   ],
   "source": [
    "def climb_steps_rec(n: int, memory: dict):\n",
    "    if n <= 0:\n",
    "        return 0\n",
    "    if n == 1:\n",
    "        return 1\n",
    "    if n == 2:\n",
    "        return 2\n",
    "\n",
    "    if n in memory:\n",
    "        return memory[n]\n",
    "\n",
    "    memory[n] = climb_steps_rec(n - 1, memory) + climb_steps_rec(n - 2, memory)\n",
    "\n",
    "    return memory[n]\n",
    "\n",
    "\n",
    "memory = {1: 1, 2: 2}\n",
    "print(climb_steps_rec(2, memory))\n",
    "print(climb_steps_rec(3, memory))\n",
    "print(climb_steps_rec(4, memory))\n",
    "print(climb_steps_rec(35, memory))"
   ]
  },
  {
   "cell_type": "code",
   "execution_count": 16,
   "metadata": {},
   "outputs": [
    {
     "name": "stdout",
     "output_type": "stream",
     "text": [
      "5\n",
      "14930352\n"
     ]
    }
   ],
   "source": [
    "def climb_steps(n):\n",
    "    memory = [-1] * (n + 1)\n",
    "    memory[0] = 0\n",
    "    memory[1] = 1\n",
    "    memory[2] = 2\n",
    "\n",
    "    if n <= 1:\n",
    "        return memory[n]\n",
    "\n",
    "    for i in range(3, n + 1):\n",
    "        memory[i] = memory[i - 1] + memory[i - 2]\n",
    "\n",
    "    return memory[n]\n",
    "\n",
    "\n",
    "print(climb_steps(4))\n",
    "print(climb_steps(35))"
   ]
  },
  {
   "cell_type": "code",
   "execution_count": 8,
   "metadata": {},
   "outputs": [
    {
     "data": {
      "text/plain": [
       "{1: 1, 2: 2, 3: 3}"
      ]
     },
     "execution_count": 8,
     "metadata": {},
     "output_type": "execute_result"
    }
   ],
   "source": [
    "memory"
   ]
  },
  {
   "cell_type": "code",
   "execution_count": 11,
   "metadata": {},
   "outputs": [
    {
     "name": "stdout",
     "output_type": "stream",
     "text": [
      "14930352\n"
     ]
    }
   ],
   "source": []
  },
  {
   "cell_type": "code",
   "execution_count": null,
   "metadata": {},
   "outputs": [],
   "source": []
  },
  {
   "cell_type": "code",
   "execution_count": null,
   "metadata": {},
   "outputs": [],
   "source": []
  }
 ],
 "metadata": {
  "kernelspec": {
   "display_name": "CaseTA",
   "language": "python",
   "name": "python3"
  },
  "language_info": {
   "codemirror_mode": {
    "name": "ipython",
    "version": 3
   },
   "file_extension": ".py",
   "mimetype": "text/x-python",
   "name": "python",
   "nbconvert_exporter": "python",
   "pygments_lexer": "ipython3",
   "version": "3.10.9"
  },
  "orig_nbformat": 4
 },
 "nbformat": 4,
 "nbformat_minor": 2
}
