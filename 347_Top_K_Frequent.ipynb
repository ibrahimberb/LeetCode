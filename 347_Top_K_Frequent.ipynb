{
 "cells": [
  {
   "attachments": {},
   "cell_type": "markdown",
   "metadata": {},
   "source": [
    "# 347. Top K Frequent Elements\n",
    "\n",
    "\n",
    "Given an integer array nums and an integer `k`, return the `k` most frequent elements. \n",
    "You may return the answer in **any order**.\n",
    "\n",
    "**Example 1:**\n",
    "```\n",
    "Input: nums = [1,1,1,2,2,3], k = 2\n",
    "Output: [1,2]\n",
    "```\n",
    "\n",
    "**Example 2:**\n",
    "```\n",
    "Input: nums = [1], k = 1\n",
    "Output: [1]\n",
    "```\n",
    "\n",
    "**Constraints:**\n",
    "\n",
    "```\n",
    "1 <= nums.length <= 105\n",
    "-104 <= nums[i] <= 104\n",
    "k is in the range [1, the number of unique elements in the array].\n",
    "It is guaranteed that the answer is unique.\n",
    "```\n",
    "\n",
    "Follow up: Your algorithm's time complexity must be better than O(n log n), where n is the array's size."
   ]
  },
  {
   "cell_type": "code",
   "execution_count": 3,
   "metadata": {},
   "outputs": [],
   "source": [
    "from collections import defaultdict\n",
    "\n",
    "\n",
    "def top_k_elements(nums, k):\n",
    "    counts = defaultdict(int)\n",
    "    for num in nums:\n",
    "        counts[num] += 1\n",
    "\n",
    "    top_ks = []\n",
    "    for _ in range(k):\n",
    "        elem = max(counts, key=counts.get)\n",
    "        top_ks.append(elem)\n",
    "        del counts[elem]\n",
    "\n",
    "    return top_ks\n",
    "\n",
    "\n",
    "nums = [1, 1, 1, 2, 2, 3]\n",
    "k = 2\n",
    "assert top_k_elements(nums, k) == [1, 2]\n",
    "\n",
    "nums = [1]\n",
    "k = 1\n",
    "assert top_k_elements(nums, k) == [1]"
   ]
  },
  {
   "attachments": {},
   "cell_type": "markdown",
   "metadata": {},
   "source": [
    "If we are allowed to use `Counter` class, then we can even have one liner as follows:"
   ]
  },
  {
   "cell_type": "code",
   "execution_count": 4,
   "metadata": {},
   "outputs": [],
   "source": [
    "from collections import Counter\n",
    "\n",
    "\n",
    "def top_k_elements(nums, k):\n",
    "    return [elem for elem, freq in Counter(nums).most_common()[:k]]\n",
    "\n",
    "\n",
    "nums = [1, 1, 1, 2, 2, 3]\n",
    "k = 2\n",
    "assert top_k_elements(nums, k) == [1, 2]\n",
    "\n",
    "nums = [1]\n",
    "k = 1\n",
    "assert top_k_elements(nums, k) == [1]"
   ]
  },
  {
   "cell_type": "code",
   "execution_count": null,
   "metadata": {},
   "outputs": [],
   "source": []
  },
  {
   "cell_type": "code",
   "execution_count": null,
   "metadata": {},
   "outputs": [],
   "source": []
  },
  {
   "cell_type": "code",
   "execution_count": null,
   "metadata": {},
   "outputs": [],
   "source": []
  }
 ],
 "metadata": {
  "kernelspec": {
   "display_name": "CaseTA",
   "language": "python",
   "name": "python3"
  },
  "language_info": {
   "codemirror_mode": {
    "name": "ipython",
    "version": 3
   },
   "file_extension": ".py",
   "mimetype": "text/x-python",
   "name": "python",
   "nbconvert_exporter": "python",
   "pygments_lexer": "ipython3",
   "version": "3.10.9"
  },
  "orig_nbformat": 4
 },
 "nbformat": 4,
 "nbformat_minor": 2
}
