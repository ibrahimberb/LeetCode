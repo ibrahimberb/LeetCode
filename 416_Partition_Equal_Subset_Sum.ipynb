{
 "cells": [
  {
   "attachments": {},
   "cell_type": "markdown",
   "metadata": {},
   "source": [
    "# 416. Partition Equal Subset Sum\n",
    "\n",
    "https://leetcode.com/problems/partition-equal-subset-sum/\n",
    "\n",
    "\n",
    "Given an integer array nums, return true if you can partition the array into two subsets such that the sum of the elements in both subsets is equal or false otherwise.\n",
    "\n",
    " \n",
    "\n",
    "**Example 1:**\n",
    "\n",
    "```\n",
    "Input: nums = [1,5,11,5]\n",
    "Output: true\n",
    "Explanation: The array can be partitioned as [1, 5, 5] and [11].\n",
    "```\n",
    "\n",
    "**Example 2:**\n",
    "\n",
    "```\n",
    "Input: nums = [1,2,3,5]\n",
    "Output: false\n",
    "Explanation: The array cannot be partitioned into equal sum subsets.\n",
    "```\n",
    "\n",
    "**Constraints:**\n",
    "\n",
    "```\n",
    "1 <= nums.length <= 200\n",
    "1 <= nums[i] <= 100\n",
    "```"
   ]
  },
  {
   "cell_type": "code",
   "execution_count": 1,
   "metadata": {},
   "outputs": [
    {
     "data": {
      "text/plain": [
       "True"
      ]
     },
     "execution_count": 1,
     "metadata": {},
     "output_type": "execute_result"
    }
   ],
   "source": [
    "from typing import List\n",
    "\n",
    "\n",
    "def subset_sum(nums: List[int]) -> bool:\n",
    "    \"\"\"NOTE: time exceeds\"\"\"\n",
    "    def aux(nums, target):\n",
    "        if len(nums) == 1:\n",
    "            return nums[0] == target\n",
    "        return aux(nums[1:], target - nums[0]) or aux(nums[1:], target)\n",
    "\n",
    "    return aux(nums, sum(nums) // 2)\n",
    "\n",
    "\n",
    "L = [1, 5, 11, 5]\n",
    "subset_sum(L)"
   ]
  },
  {
   "attachments": {},
   "cell_type": "markdown",
   "metadata": {},
   "source": [
    "We can use $set$ to keep track of each possible sums. Also note that the subsets will have the sum which is equal to $sum(nums) / 2$."
   ]
  },
  {
   "cell_type": "code",
   "execution_count": 8,
   "metadata": {},
   "outputs": [
    {
     "data": {
      "text/plain": [
       "True"
      ]
     },
     "execution_count": 8,
     "metadata": {},
     "output_type": "execute_result"
    }
   ],
   "source": [
    "def subset_sum(nums: List[int]) -> bool:\n",
    "    if sum(nums) % 2 == 1:\n",
    "        return False\n",
    "    \n",
    "    sums = set([0])\n",
    "    target = sum(nums) // 2\n",
    "    for num in nums:\n",
    "        new_sums = set()\n",
    "        for val in sums:\n",
    "            new_sums.add(num + val)\n",
    "        \n",
    "        sums = sums.union(new_sums)\n",
    "    \n",
    "    return target in sums\n",
    "\n",
    "L = [1, 5, 11, 5]\n",
    "subset_sum(L)"
   ]
  },
  {
   "cell_type": "code",
   "execution_count": 9,
   "metadata": {},
   "outputs": [],
   "source": [
    "# LeetCode optimized version: \n",
    "\n",
    "class Solution:\n",
    "    def canPartition(self, nums: List[int]) -> bool:\n",
    "        total = sum(nums)\n",
    "        if total % 2 == 1:\n",
    "            return False \n",
    "\n",
    "        sums = set([0])\n",
    "        target = total // 2\n",
    "        for num in nums:\n",
    "            new_sums = set()\n",
    "            for val in sums:\n",
    "                if val + num == target:\n",
    "                    return True\n",
    "\n",
    "                new_sums.add(val + num)\n",
    "                new_sums.add(val)\n",
    "            \n",
    "            sums = new_sums\n",
    "        \n",
    "        return target in sums"
   ]
  },
  {
   "cell_type": "code",
   "execution_count": null,
   "metadata": {},
   "outputs": [],
   "source": []
  },
  {
   "cell_type": "code",
   "execution_count": null,
   "metadata": {},
   "outputs": [],
   "source": []
  },
  {
   "cell_type": "code",
   "execution_count": null,
   "metadata": {},
   "outputs": [],
   "source": []
  }
 ],
 "metadata": {
  "kernelspec": {
   "display_name": "CaseTA",
   "language": "python",
   "name": "python3"
  },
  "language_info": {
   "codemirror_mode": {
    "name": "ipython",
    "version": 3
   },
   "file_extension": ".py",
   "mimetype": "text/x-python",
   "name": "python",
   "nbconvert_exporter": "python",
   "pygments_lexer": "ipython3",
   "version": "3.10.9"
  },
  "orig_nbformat": 4
 },
 "nbformat": 4,
 "nbformat_minor": 2
}
