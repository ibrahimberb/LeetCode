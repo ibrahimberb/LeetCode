{
 "cells": [
  {
   "attachments": {},
   "cell_type": "markdown",
   "metadata": {},
   "source": [
    "# 21. Merge Two Sorted Lists"
   ]
  },
  {
   "attachments": {},
   "cell_type": "markdown",
   "metadata": {},
   "source": [
    "https://leetcode.com/problems/merge-two-sorted-lists/"
   ]
  },
  {
   "cell_type": "code",
   "execution_count": 21,
   "metadata": {},
   "outputs": [
    {
     "name": "stdout",
     "output_type": "stream",
     "text": [
      "1\n",
      "1\n",
      "2\n",
      "2\n",
      "3\n",
      "4\n"
     ]
    }
   ],
   "source": [
    "from typing import List\n",
    "\n",
    "\n",
    "# Definition for singly-linked list.\n",
    "class ListNode:\n",
    "    def __init__(self, val=0, next=None):\n",
    "        self.val = val\n",
    "        self.next = next\n",
    "\n",
    "\n",
    "def print_list(L: ListNode):\n",
    "    while L is not None:\n",
    "        print(L.val)\n",
    "        L = L.next\n",
    "\n",
    "\n",
    "def create_list(nums):\n",
    "    head = ListNode(nums[0])\n",
    "    current = head\n",
    "    for num in nums[1:]:\n",
    "        current.next = ListNode(num)\n",
    "        current = current.next\n",
    "\n",
    "    return head\n",
    "\n",
    "\n",
    "def merge_two_list(list1, list2):\n",
    "    merged = ListNode(\"START\")\n",
    "    curr_merged = merged\n",
    "    curr_1 = list1\n",
    "    curr_2 = list2\n",
    "\n",
    "    while True:\n",
    "        if curr_1 is None and curr_2 is not None:\n",
    "            print(f\"Adding {curr_2.val} ..\")\n",
    "            curr_merged.next = ListNode(curr_2.val)\n",
    "            curr_merged = curr_merged.next\n",
    "            curr_2 = curr_2.next\n",
    "\n",
    "        elif curr_2 is None and curr_1 is not None:\n",
    "            print(f\"Adding {curr_1.val} ..\")\n",
    "            curr_merged.next = ListNode(curr_1.val)\n",
    "            curr_merged = curr_merged.next\n",
    "            curr_1 = curr_1.next\n",
    "\n",
    "        elif curr_1 is None and curr_2 is None:\n",
    "            break\n",
    "\n",
    "        else:\n",
    "            if curr_1.val < curr_2.val:\n",
    "                print(f\"Adding {curr_1.val} ..\")\n",
    "                curr_merged.next = ListNode(curr_1.val)\n",
    "                curr_merged = curr_merged.next\n",
    "                curr_1 = curr_1.next\n",
    "\n",
    "            else:\n",
    "                print(f\"Adding {curr_2.val} ..\")\n",
    "                curr_merged.next = ListNode(curr_2.val)\n",
    "                curr_merged = curr_merged.next\n",
    "                curr_2 = curr_2.next\n",
    "\n",
    "    return merged.next\n",
    "\n",
    "\n",
    "def merge_two_list2(list1, list2):\n",
    "    if list1 is not None and list2 is not None:\n",
    "        if list1.val < list2.val:\n",
    "            list1.next = merge_two_list2(list1.next, list2)\n",
    "            return list1\n",
    "        \n",
    "        else:\n",
    "            list2.next = merge_two_list2(list1, list2.next)\n",
    "            return list2\n",
    "    \n",
    "    return list1 if list2 is None else list2 \n",
    "    \n",
    "\n",
    "\n",
    "\n",
    "\n",
    "L1 = create_list([1, 2, 4])\n",
    "L2 = create_list([1, 2, 3])\n",
    "print_list(merge_two_list2(L1, L2))"
   ]
  },
  {
   "cell_type": "code",
   "execution_count": null,
   "metadata": {},
   "outputs": [],
   "source": []
  },
  {
   "cell_type": "code",
   "execution_count": null,
   "metadata": {},
   "outputs": [],
   "source": []
  }
 ],
 "metadata": {
  "kernelspec": {
   "display_name": "CaseTA",
   "language": "python",
   "name": "python3"
  },
  "language_info": {
   "codemirror_mode": {
    "name": "ipython",
    "version": 3
   },
   "file_extension": ".py",
   "mimetype": "text/x-python",
   "name": "python",
   "nbconvert_exporter": "python",
   "pygments_lexer": "ipython3",
   "version": "3.10.9"
  },
  "orig_nbformat": 4
 },
 "nbformat": 4,
 "nbformat_minor": 2
}
