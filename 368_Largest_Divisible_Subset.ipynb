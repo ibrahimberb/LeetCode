{
 "cells": [
  {
   "attachments": {},
   "cell_type": "markdown",
   "metadata": {},
   "source": [
    "# 368. Largest Divisible Subset\n",
    "\n",
    "\n",
    "Given a set of distinct positive integers nums, return the largest subset answer such that every pair (answer[i], answer[j]) of elements in this subset satisfies:\n",
    "\n",
    "```\n",
    "answer[i] % answer[j] == 0, or\n",
    "answer[j] % answer[i] == 0\n",
    "```\n",
    "\n",
    "If there are multiple solutions, return any of them.\n",
    " \n",
    "\n",
    "**Example 1:**\n",
    "\n",
    "```\n",
    "Input: nums = [1,2,3]\n",
    "Output: [1,2]\n",
    "Explanation: [1,3] is also accepted.\n",
    "```\n",
    "\n",
    "**Example 2:**\n",
    "\n",
    "```\n",
    "Input: nums = [1,2,4,8]\n",
    "Output: [1,2,4,8]\n",
    "```\n",
    "\n",
    "**Constraints:**\n",
    "\n",
    "```\n",
    "1 <= nums.length <= 1000\n",
    "1 <= nums[i] <= 2 * 109\n",
    "All the integers in nums are unique.\n",
    "```"
   ]
  },
  {
   "cell_type": "code",
   "execution_count": null,
   "metadata": {},
   "outputs": [],
   "source": []
  },
  {
   "cell_type": "code",
   "execution_count": null,
   "metadata": {},
   "outputs": [],
   "source": []
  },
  {
   "cell_type": "code",
   "execution_count": null,
   "metadata": {},
   "outputs": [],
   "source": []
  }
 ],
 "metadata": {
  "language_info": {
   "name": "python"
  },
  "orig_nbformat": 4
 },
 "nbformat": 4,
 "nbformat_minor": 2
}
