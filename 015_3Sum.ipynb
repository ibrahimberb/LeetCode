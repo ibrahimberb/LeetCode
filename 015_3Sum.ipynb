{
 "cells": [
  {
   "cell_type": "markdown",
   "metadata": {},
   "source": [
    "# 15. 3Sum\n",
    "\n",
    "### Problem Description\n",
    "\n",
    "Given an integer array `nums`, return all the triplets `[nums[i], nums[j], nums[k]]` such that `i != j`, `i != k`, and `j != k`, and `nums[i] + nums[j] + nums[k] == 0`.\n",
    "\n",
    "**Notice** that the solution set must not contain duplicate triplets.\n",
    "\n",
    "### Examples\n",
    "\n",
    "**Example 1:**\n",
    "\n",
    "- **Input:** `nums = [-1,0,1,2,-1,-4]`\n",
    "- **Output:** `[[-1,-1,2],[-1,0,1]]`\n",
    "- **Explanation:**\n",
    "  - `nums[0] + nums[1] + nums[2] = (-1) + 0 + 1 = 0`.\n",
    "  - `nums[1] + nums[2] + nums[4] = 0 + 1 + (-1) = 0`.\n",
    "  - `nums[0] + nums[3] + nums[4] = (-1) + 2 + (-1) = 0`.\n",
    "  - The distinct triplets are `[-1,0,1]` and `[-1,-1,2]`.\n",
    "  - **Notice** that the order of the output and the order of the triplets does not matter.\n",
    "\n",
    "**Example 2:**\n",
    "\n",
    "- **Input:** `nums = [0,1,1]`\n",
    "- **Output:** `[]`\n",
    "- **Explanation:** The only possible triplet does not sum up to `0`.\n",
    "\n",
    "**Example 3:**\n",
    "\n",
    "- **Input:** `nums = [0,0,0]`\n",
    "- **Output:** `[[0,0,0]]`\n",
    "- **Explanation:** The only possible triplet sums up to `0`.\n",
    "\n",
    "### Constraints\n",
    "\n",
    "- `3 <= nums.length <= 3000`\n",
    "- `-10^5 <= nums[i] <= 10^5`\n"
   ]
  },
  {
   "cell_type": "code",
   "execution_count": 14,
   "metadata": {},
   "outputs": [],
   "source": [
    "from typing import List\n",
    "\n",
    "\n",
    "def threeSum(nums: List[int]) -> List[List[int]]:\n",
    "    nums.sort()\n",
    "    target = 0\n",
    "    # List to store triplets, including duplicates\n",
    "    triplets = []\n",
    "\n",
    "    for i in range(len(nums) - 2):\n",
    "        a = nums[i]\n",
    "        L = i + 1\n",
    "        R = len(nums) - 1\n",
    "\n",
    "        while L < R:\n",
    "            current_sum = a + nums[L] + nums[R]\n",
    "\n",
    "            if current_sum == target:\n",
    "                triplets.append([a, nums[L], nums[R]])\n",
    "                L += 1\n",
    "                R -= 1\n",
    "\n",
    "            elif current_sum < target:\n",
    "                L += 1  # Move left pointer right to increase the sum\n",
    "\n",
    "            else:\n",
    "                R -= 1  # Move right pointer left to decrease the sum\n",
    "\n",
    "    # Convert the list of triplets into a set of tuples to eliminate duplicates, then convert it back to a list\n",
    "    unique_triplets = list(map(list, set(map(tuple, triplets))))\n",
    "\n",
    "    return unique_triplets"
   ]
  },
  {
   "cell_type": "code",
   "execution_count": 15,
   "metadata": {},
   "outputs": [
    {
     "data": {
      "text/plain": [
       "[[-1, 0, 1], [-1, -1, 2]]"
      ]
     },
     "execution_count": 15,
     "metadata": {},
     "output_type": "execute_result"
    }
   ],
   "source": [
    "threeSum([-1,0,1,2,-1,-4])"
   ]
  },
  {
   "cell_type": "code",
   "execution_count": null,
   "metadata": {},
   "outputs": [],
   "source": []
  }
 ],
 "metadata": {
  "kernelspec": {
   "display_name": "CaseTA",
   "language": "python",
   "name": "python3"
  },
  "language_info": {
   "codemirror_mode": {
    "name": "ipython",
    "version": 3
   },
   "file_extension": ".py",
   "mimetype": "text/x-python",
   "name": "python",
   "nbconvert_exporter": "python",
   "pygments_lexer": "ipython3",
   "version": "3.8.17"
  },
  "orig_nbformat": 4
 },
 "nbformat": 4,
 "nbformat_minor": 2
}
