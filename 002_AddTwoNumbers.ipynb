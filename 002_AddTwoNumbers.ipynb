{
 "cells": [
  {
   "attachments": {},
   "cell_type": "markdown",
   "metadata": {},
   "source": [
    "# Add Two Numbers"
   ]
  },
  {
   "attachments": {},
   "cell_type": "markdown",
   "metadata": {},
   "source": [
    "https://leetcode.com/problems/add-two-numbers/"
   ]
  },
  {
   "cell_type": "code",
   "execution_count": 3,
   "metadata": {},
   "outputs": [
    {
     "name": "stdout",
     "output_type": "stream",
     "text": [
      "7 -> 0 -> 8 -> \n"
     ]
    }
   ],
   "source": [
    "# Definition for singly-linked list.\n",
    "class ListNode:\n",
    "    def __init__(self, val=0, next=None):\n",
    "        self.val = val\n",
    "        self.next = next\n",
    "    \n",
    "\n",
    "def create_list_node(L):\n",
    "    head = ListNode(L[0])\n",
    "    current = head\n",
    "    for item in L[1:]:\n",
    "        current.next = ListNode(item)\n",
    "        current = current.next\n",
    "    \n",
    "    return head\n",
    "\n",
    "\n",
    "def traverse(L:ListNode):\n",
    "    head = L\n",
    "    current = head \n",
    "    print(current.val, end=\" -> \")\n",
    "    while current.next != None:\n",
    "        current = current.next\n",
    "        print(current.val, end=\" -> \")\n",
    "    print()\n",
    "\n",
    "\n",
    "\n",
    "def add_two_nums(l1, l2):\n",
    "    result_head = ListNode(0)\n",
    "    current = result_head\n",
    "    carry = 0\n",
    "    while l1 != None or l2 != None or carry != 0:\n",
    "        val1 = l1.val if l1 else 0\n",
    "        val2 = l2.val if l2 else 0\n",
    "        digit_sum = val1 + val2 + carry\n",
    "        carry = digit_sum // 10\n",
    "        digit_sum = digit_sum % 10\n",
    "        current.next = ListNode(digit_sum)\n",
    "        current = current.next  \n",
    "        l1 = l1.next if l1 else None\n",
    "        l2 = l2.next if l2 else None\n",
    "    \n",
    "    return result_head.next\n",
    "\n",
    "\n",
    "\n",
    "l1 = [2, 4, 3]\n",
    "l2 = [5, 6, 4]\n",
    "l1 = create_list_node(l1)\n",
    "l2 = create_list_node(l2)\n",
    "ans = add_two_nums(l1, l2)\n",
    "traverse(ans)"
   ]
  },
  {
   "cell_type": "code",
   "execution_count": null,
   "metadata": {},
   "outputs": [],
   "source": []
  }
 ],
 "metadata": {
  "kernelspec": {
   "display_name": "MyVenv",
   "language": "python",
   "name": "myvenv"
  },
  "language_info": {
   "codemirror_mode": {
    "name": "ipython",
    "version": 3
   },
   "file_extension": ".py",
   "mimetype": "text/x-python",
   "name": "python",
   "nbconvert_exporter": "python",
   "pygments_lexer": "ipython3",
   "version": "3.9.12"
  },
  "orig_nbformat": 4,
  "vscode": {
   "interpreter": {
    "hash": "3a87835ef3302642c595255454695d8396bb68a285bd230835682c4a4880a3d8"
   }
  }
 },
 "nbformat": 4,
 "nbformat_minor": 2
}
