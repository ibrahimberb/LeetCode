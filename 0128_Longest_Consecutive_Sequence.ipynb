{
 "cells": [
  {
   "cell_type": "markdown",
   "metadata": {},
   "source": [
    "# 128. Longest Consecutive Sequence\n",
    "\n",
    "## Problem Description\n",
    "\n",
    "Given an unsorted array of integers `nums`, return the length of the longest consecutive elements sequence.\n",
    "\n",
    "You must write an algorithm that runs in **O(n)** time.\n",
    "\n",
    "### Examples\n",
    "\n",
    "**Example 1:**\n",
    "\n",
    "- **Input:** `nums = [100, 4, 200, 1, 3, 2]`\n",
    "- **Output:** `4`\n",
    "- **Explanation:** The longest consecutive elements sequence is `[1, 2, 3, 4]`. Therefore, its length is `4`.\n",
    "\n",
    "**Example 2:**\n",
    "\n",
    "- **Input:** `nums = [0, 3, 7, 2, 5, 8, 4, 6, 0, 1]`\n",
    "- **Output:** `9`\n",
    "\n",
    "### Constraints\n",
    "\n",
    "- `0 <= nums.length <= 10^5`\n",
    "- `-10^9 <= nums[i] <= 10^9`\n"
   ]
  },
  {
   "cell_type": "code",
   "execution_count": 3,
   "metadata": {},
   "outputs": [],
   "source": [
    "from typing import List\n",
    "\n",
    "\n",
    "def longestConsecutive(nums: List[int]) -> int:\n",
    "    num_set = set(nums)\n",
    "    max_length = 0\n",
    "\n",
    "    for num in num_set:\n",
    "        if (num-1) not in num_set:  \n",
    "            seq_length = 1  # only head in it.\n",
    "            next_num = num+1\n",
    "            while True:\n",
    "                if next_num not in num_set:\n",
    "                    break\n",
    "\n",
    "                next_num = next_num+1\n",
    "                seq_length += 1\n",
    "        \n",
    "        max_length = max(max_length, seq_length)\n",
    "\n",
    "    return max_length\n",
    "\n",
    "\n",
    "assert longestConsecutive([100,4,200,1,3,2]) == 4"
   ]
  },
  {
   "cell_type": "code",
   "execution_count": null,
   "metadata": {},
   "outputs": [],
   "source": []
  },
  {
   "cell_type": "code",
   "execution_count": null,
   "metadata": {},
   "outputs": [],
   "source": []
  },
  {
   "cell_type": "code",
   "execution_count": null,
   "metadata": {},
   "outputs": [],
   "source": []
  },
  {
   "cell_type": "code",
   "execution_count": null,
   "metadata": {},
   "outputs": [],
   "source": []
  },
  {
   "cell_type": "code",
   "execution_count": null,
   "metadata": {},
   "outputs": [],
   "source": []
  }
 ],
 "metadata": {
  "kernelspec": {
   "display_name": "CaseTA",
   "language": "python",
   "name": "python3"
  },
  "language_info": {
   "codemirror_mode": {
    "name": "ipython",
    "version": 3
   },
   "file_extension": ".py",
   "mimetype": "text/x-python",
   "name": "python",
   "nbconvert_exporter": "python",
   "pygments_lexer": "ipython3",
   "version": "3.8.17"
  },
  "orig_nbformat": 4
 },
 "nbformat": 4,
 "nbformat_minor": 2
}
