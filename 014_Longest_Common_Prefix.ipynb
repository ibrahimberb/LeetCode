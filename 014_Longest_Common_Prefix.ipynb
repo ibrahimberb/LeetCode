{
 "cells": [
  {
   "attachments": {},
   "cell_type": "markdown",
   "metadata": {},
   "source": [
    "# 14. Longest Common Prefix"
   ]
  },
  {
   "attachments": {},
   "cell_type": "markdown",
   "metadata": {},
   "source": [
    "https://leetcode.com/problems/longest-common-prefix/"
   ]
  },
  {
   "cell_type": "code",
   "execution_count": null,
   "metadata": {},
   "outputs": [],
   "source": [
    "class Solution:\n",
    "    def longestCommonPrefix(self, strs: List[str]) -> str:\n",
    "        lcp = \"\"\n",
    "        shortest_length = min([len(string) for string in strs])\n",
    "        shortests = [string for string in strs if len(string) == shortest_length]\n",
    "        shortest = shortests[0]\n",
    "        for i, char in enumerate(shortest):\n",
    "            for str in strs:\n",
    "                if str[i] != char:\n",
    "                    return lcp\n",
    "\n",
    "            lcp += shortest[i]\n",
    "\n",
    "\n",
    "        return lcp"
   ]
  },
  {
   "cell_type": "code",
   "execution_count": 3,
   "metadata": {},
   "outputs": [
    {
     "name": "stdout",
     "output_type": "stream",
     "text": [
      "fl\n",
      "\n"
     ]
    }
   ],
   "source": [
    "from typing import List\n",
    "\n",
    "def longest_common_prefix(strs: List[str]) -> str:\n",
    "\n",
    "    lcp = \"\"\n",
    "    # shortest_length = min([len(string) for string in strs]\n",
    "    for i, _ in enumerate(strs[0]):\n",
    "        for str in strs:\n",
    "            if str[i] != strs[0][i]:\n",
    "                return lcp\n",
    "\n",
    "        lcp += strs[0][i]\n",
    "\n",
    "\n",
    "    return lcp\n",
    "\n",
    "\n",
    "strs_1 = [\"flower\",\"flow\",\"flight\"]\n",
    "strs_2 = [\"dog\",\"racecar\",\"car\"]\n",
    "print(longest_common_prefix(strs_1))\n",
    "print(longest_common_prefix(strs_2))"
   ]
  },
  {
   "cell_type": "code",
   "execution_count": null,
   "metadata": {},
   "outputs": [],
   "source": [
    "from typing import List\n",
    "\n",
    "def longest_common_prefix(strs: List[str]) -> str:\n",
    "\n",
    "    lcp = \"\"\n",
    "    strs = sorted(strs)\n",
    "    first_str = strs[0]\n",
    "    last_str = strs[-1]\n",
    "    for i in range(min(len(first_str), len(last_str))):\n",
    "        if first_str[i] != last_str[i]:\n",
    "            return lcp\n",
    "        lcp += first_str[i]\n",
    "\n",
    "    return lcp\n",
    "\n",
    "strs_1 = [\"flower\",\"flow\",\"flight\"]\n",
    "strs_2 = [\"dog\",\"racecar\",\"car\"]\n",
    "print(longest_common_prefix(strs_1))\n",
    "print(longest_common_prefix(strs_2))"
   ]
  },
  {
   "cell_type": "code",
   "execution_count": 5,
   "metadata": {},
   "outputs": [
    {
     "data": {
      "text/plain": [
       "['aaaaa', 'aaaab', 'aaaac', 'm', 'zzz']"
      ]
     },
     "execution_count": 5,
     "metadata": {},
     "output_type": "execute_result"
    }
   ],
   "source": [
    "sorted([\"aaaaa\",\"aaaab\",\"m\", \"aaaac\", \"zzz\"])"
   ]
  },
  {
   "cell_type": "code",
   "execution_count": null,
   "metadata": {},
   "outputs": [],
   "source": []
  }
 ],
 "metadata": {
  "kernelspec": {
   "display_name": "CaseTA",
   "language": "python",
   "name": "python3"
  },
  "language_info": {
   "codemirror_mode": {
    "name": "ipython",
    "version": 3
   },
   "file_extension": ".py",
   "mimetype": "text/x-python",
   "name": "python",
   "nbconvert_exporter": "python",
   "pygments_lexer": "ipython3",
   "version": "3.10.9"
  },
  "orig_nbformat": 4
 },
 "nbformat": 4,
 "nbformat_minor": 2
}
