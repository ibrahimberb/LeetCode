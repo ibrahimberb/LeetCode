{
 "cells": [
  {
   "cell_type": "markdown",
   "source": [
    "# 917. Reverse Only Letters\n",
    "\n",
    "Given a string s, reverse the string according to the following rules:\n",
    "\n",
    "All the characters that are not English letters remain in the same position.\n",
    "All the English letters (lowercase or uppercase) should be reversed.\n",
    "Return s after reversing it.\n",
    "\n",
    "\n",
    "**Example 1:**\n",
    "```\n",
    "Input: s = \"ab-cd\"\n",
    "Output: \"dc-ba\"\n",
    "```\n",
    "\n",
    "**Example 2:**\n",
    "```\n",
    "Input: s = \"a-bC-dEf-ghIj\"\n",
    "Output: \"j-Ih-gfE-dCba\"\n",
    "```\n",
    "\n",
    "**Example 3:**\n",
    "```\n",
    "Input: s = \"Test1ng-Leet=code-Q!\"\n",
    "Output: \"Qedo1ct-eeLg=ntse-T!\"\n",
    "```\n",
    "\n",
    "**Constraints:**\n",
    "```\n",
    "1 <= s.length <= 100\n",
    "s consists of characters with ASCII values in the range [33, 122].\n",
    "s does not contain '\\\"' or '\\\\'.\n",
    "```"
   ],
   "metadata": {
    "collapsed": false
   }
  },
  {
   "cell_type": "markdown",
   "source": [
    "As always, quick and dirty implementation, without using external library to check alpha characters."
   ],
   "metadata": {
    "collapsed": false
   }
  },
  {
   "cell_type": "code",
   "execution_count": 28,
   "outputs": [
    {
     "data": {
      "text/plain": "['A', 'B', 'C', 'D', 'E']"
     },
     "execution_count": 28,
     "metadata": {},
     "output_type": "execute_result"
    }
   ],
   "source": [
    "# ALPHABET = [chr(num) for num in range(33, 123)]\n",
    "LETTERS = [chr(num) for num in list(range(65, 91)) + list(range(97, 123))]\n",
    "LETTERS[:5]"
   ],
   "metadata": {
    "collapsed": false
   }
  },
  {
   "cell_type": "code",
   "execution_count": 29,
   "outputs": [
    {
     "data": {
      "text/plain": "'Qedo1ct-eeLg=ntse-T!'"
     },
     "execution_count": 29,
     "metadata": {},
     "output_type": "execute_result"
    }
   ],
   "source": [
    "def reverse_only_letters(s):\n",
    "    letters = []\n",
    "    letter_indices = []  # hold spaces as index.\n",
    "    template = list(s)\n",
    "    for i, c in enumerate(s):\n",
    "        if c in LETTERS:\n",
    "            letters.append(c)\n",
    "            letter_indices.append(i)\n",
    "\n",
    "    letters_reversed = letters[::-1]\n",
    "    for i, c in zip(letter_indices, letters_reversed):\n",
    "        template[i] = c\n",
    "\n",
    "    return ''.join(template)\n",
    "\n",
    "\n",
    "s = \"Test1ng-Leet=code-Q!\"\n",
    "reverse_only_letters(s)"
   ],
   "metadata": {
    "collapsed": false
   }
  },
  {
   "cell_type": "markdown",
   "source": [
    "Let's make it cleaner, and use built-in `isalpha()` function."
   ],
   "metadata": {
    "collapsed": false
   }
  },
  {
   "cell_type": "code",
   "execution_count": 34,
   "outputs": [
    {
     "data": {
      "text/plain": "'Qedo1ct-eeLg=ntse-T!'"
     },
     "execution_count": 34,
     "metadata": {},
     "output_type": "execute_result"
    }
   ],
   "source": [
    "def reverse_only_letters(s):\n",
    "    letters = []\n",
    "    letter_indices = []  # hold spaces as index.\n",
    "    s = list(s)\n",
    "    for i, c in enumerate(s):\n",
    "        if c.isalpha():\n",
    "            letters.append(c)\n",
    "            letter_indices.append(i)\n",
    "\n",
    "    for i, c in zip(letter_indices, letters[::-1]):\n",
    "        s[i] = c\n",
    "\n",
    "    return ''.join(s)\n",
    "\n",
    "\n",
    "s = \"Test1ng-Leet=code-Q!\"\n",
    "reverse_only_letters(s)"
   ],
   "metadata": {
    "collapsed": false
   }
  },
  {
   "cell_type": "markdown",
   "source": [
    "Using two pointer approach, we can solve it as follows:"
   ],
   "metadata": {
    "collapsed": false
   }
  },
  {
   "cell_type": "code",
   "execution_count": 39,
   "outputs": [
    {
     "data": {
      "text/plain": "'Qedo1ct-eeLg=ntse-T!'"
     },
     "execution_count": 39,
     "metadata": {},
     "output_type": "execute_result"
    }
   ],
   "source": [
    "def reverse_only_letters(s):\n",
    "    s = list(s)\n",
    "    low, high = 0, len(s) - 1\n",
    "\n",
    "    while low < high:\n",
    "        if not s[low].isalpha():\n",
    "            low += 1\n",
    "        elif not s[high].isalpha():\n",
    "            high -= 1\n",
    "        else:\n",
    "            s[low], s[high] = s[high], s[low]\n",
    "            low += 1\n",
    "            high -= 1\n",
    "\n",
    "    return \"\".join(s)\n",
    "\n",
    "\n",
    "s = \"Test1ng-Leet=code-Q!\"\n",
    "reverse_only_letters(s)"
   ],
   "metadata": {
    "collapsed": false
   }
  },
  {
   "cell_type": "code",
   "execution_count": null,
   "outputs": [],
   "source": [],
   "metadata": {
    "collapsed": false
   }
  },
  {
   "cell_type": "code",
   "execution_count": null,
   "outputs": [],
   "source": [],
   "metadata": {
    "collapsed": false
   }
  }
 ],
 "metadata": {
  "kernelspec": {
   "display_name": "Python 3",
   "language": "python",
   "name": "python3"
  },
  "language_info": {
   "codemirror_mode": {
    "name": "ipython",
    "version": 2
   },
   "file_extension": ".py",
   "mimetype": "text/x-python",
   "name": "python",
   "nbconvert_exporter": "python",
   "pygments_lexer": "ipython2",
   "version": "2.7.6"
  }
 },
 "nbformat": 4,
 "nbformat_minor": 0
}
