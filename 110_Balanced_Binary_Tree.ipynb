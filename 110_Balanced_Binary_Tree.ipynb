{
 "cells": [
  {
   "attachments": {},
   "cell_type": "markdown",
   "metadata": {},
   "source": [
    "110. Balanced Binary Tree"
   ]
  },
  {
   "attachments": {},
   "cell_type": "markdown",
   "metadata": {},
   "source": [
    "https://leetcode.com/problems/balanced-binary-tree/description/"
   ]
  },
  {
   "cell_type": "code",
   "execution_count": null,
   "metadata": {},
   "outputs": [],
   "source": [
    "# Definition for a binary tree node.\n",
    "class TreeNode:\n",
    "    def __init__(self, val=0, left=None, right=None):\n",
    "        self.val = val\n",
    "        self.left = left\n",
    "        self.right = right\n",
    "\n",
    "class Solution:\n",
    "    def max_depth(self, root):\n",
    "        def dfs(root, depth):\n",
    "            if not root:\n",
    "                return depth\n",
    "            return max(dfs(root.left, depth + 1), dfs(root.right, depth + 1))\n",
    "        \n",
    "        return dfs(root, 0)\n",
    "\n",
    "    def isBalanced(self, root: Optional[TreeNode]) -> bool:\n",
    "        # if left max length is the same as right max length, it is balanced\n",
    "        # print(self.max_depth(root))\n",
    "        if not root:\n",
    "            return True\n",
    "        \n",
    "        if abs(self.max_depth(root.left) - self.max_depth(root.right)) > 1:\n",
    "            return False\n",
    "            \n",
    "        return  self.isBalanced(root.right) and self.isBalanced(root.left)\n"
   ]
  },
  {
   "cell_type": "code",
   "execution_count": null,
   "metadata": {},
   "outputs": [],
   "source": []
  }
 ],
 "metadata": {
  "kernelspec": {
   "display_name": "CaseTA",
   "language": "python",
   "name": "python3"
  },
  "language_info": {
   "codemirror_mode": {
    "name": "ipython",
    "version": 3
   },
   "file_extension": ".py",
   "mimetype": "text/x-python",
   "name": "python",
   "nbconvert_exporter": "python",
   "pygments_lexer": "ipython3",
   "version": "3.10.9"
  },
  "orig_nbformat": 4
 },
 "nbformat": 4,
 "nbformat_minor": 2
}
