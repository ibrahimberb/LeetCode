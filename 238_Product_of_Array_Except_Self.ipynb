{
 "cells": [
  {
   "cell_type": "markdown",
   "metadata": {},
   "source": [
    "# **238. Product of Array Except Self**\n",
    "\n",
    "## Problem Description\n",
    "\n",
    "Given an integer array `nums`, return an array `answer` such that `answer[i]` is equal to the product of all the elements of `nums` except `nums[i]`.\n",
    "\n",
    "The product of any prefix or suffix of nums is guaranteed to fit in a 32-bit integer.\n",
    "\n",
    "You must write an algorithm that runs in **O(n)** time and without using the division operation.\n",
    "\n",
    "### Examples\n",
    "\n",
    "**Example 1:**\n",
    "\n",
    "- **Input:** `nums = [1,2,3,4]`\n",
    "- **Output:** `[24,12,8,6]`\n",
    "\n",
    "**Example 2:**\n",
    "\n",
    "- **Input:** `nums = [-1,1,0,-3,3]`\n",
    "- **Output:** `[0,0,9,0,0]`\n",
    "\n",
    "### Constraints\n",
    "\n",
    "- `2 <= nums.length <= 10^5`\n",
    "- `-30 <= nums[i] <= 30`\n",
    "- The product of any prefix or suffix of nums is guaranteed to fit in a 32-bit integer.\n",
    "\n",
    "### Follow Up\n",
    "\n",
    "Can you solve the problem in **O(1)** extra space complexity? (The output array does not count as extra space for space complexity analysis.)\n"
   ]
  },
  {
   "cell_type": "markdown",
   "metadata": {},
   "source": [
    "Naive solution, O(n^2)"
   ]
  },
  {
   "cell_type": "code",
   "execution_count": 8,
   "metadata": {},
   "outputs": [],
   "source": [
    "from typing import List\n",
    "\n",
    "\n",
    "def multiply(nums):\n",
    "    res = 1\n",
    "    for num in nums:\n",
    "        res = res * num\n",
    "\n",
    "    return res\n",
    "\n",
    "\n",
    "def productExceptSelf(nums: List[int]) -> List[int]:\n",
    "    res = []\n",
    "    for i, num in enumerate(nums):\n",
    "        remaining = nums[:i] + nums[i + 1 :]\n",
    "        val = multiply(remaining)\n",
    "        res.append(val)\n",
    "\n",
    "    return res\n",
    "\n",
    "\n",
    "assert productExceptSelf([1, 2, 3, 4]) == [24, 12, 8, 6]\n",
    "assert productExceptSelf([-1, 1, 0, -3, 3]) == [0, 0, 9, 0, 0]"
   ]
  },
  {
   "cell_type": "markdown",
   "metadata": {},
   "source": [
    "If we were allowed to use division operator, we could do in O(n) time like this:"
   ]
  },
  {
   "cell_type": "code",
   "execution_count": 9,
   "metadata": {},
   "outputs": [],
   "source": [
    "def productExceptSelf(nums: List[int]) -> List[int]:\n",
    "    total_product = 1\n",
    "    for num in nums:\n",
    "        total_product = total_product if num == 0 else total_product * num\n",
    "\n",
    "    answer = []\n",
    "    for i, num in enumerate(nums):\n",
    "        if 0 in (nums[:i] + nums[i + 1 :]):\n",
    "            val = 0\n",
    "        else:\n",
    "            val = total_product // num if num != 0 else total_product\n",
    "\n",
    "        answer.append(val)\n",
    "\n",
    "    return answer\n",
    "\n",
    "\n",
    "assert productExceptSelf([1, 2, 3, 4]) == [24, 12, 8, 6]\n",
    "assert productExceptSelf([-1, 1, 0, -3, 3]) == [0, 0, 9, 0, 0]"
   ]
  },
  {
   "cell_type": "markdown",
   "metadata": {},
   "source": [
    "Using Forward products and Backward products, we can find the solution O(n) time:"
   ]
  },
  {
   "cell_type": "code",
   "execution_count": 10,
   "metadata": {},
   "outputs": [],
   "source": [
    "def productExceptSelf(nums: List[int]) -> List[int]:\n",
    "    answer = [1] * len(nums)\n",
    "\n",
    "    # Forward pass, putting the prefix products.\n",
    "    product = nums[0]\n",
    "    for i in range(1, len(nums)):\n",
    "        answer[i] = product\n",
    "        product = product * nums[i]\n",
    "\n",
    "    # Backward pass, putting the postfix products.\n",
    "    product = nums[-1]\n",
    "    for i in range(len(nums) - 2, -1, -1):\n",
    "        answer[i] = answer[i] * product\n",
    "        product = product * nums[i]\n",
    "\n",
    "    return answer\n",
    "\n",
    "\n",
    "assert productExceptSelf([1, 2, 3, 4]) == [24, 12, 8, 6]\n",
    "assert productExceptSelf([-1, 1, 0, -3, 3]) == [0, 0, 9, 0, 0]"
   ]
  },
  {
   "cell_type": "code",
   "execution_count": null,
   "metadata": {},
   "outputs": [],
   "source": []
  },
  {
   "cell_type": "code",
   "execution_count": null,
   "metadata": {},
   "outputs": [],
   "source": []
  }
 ],
 "metadata": {
  "kernelspec": {
   "display_name": "CaseTA",
   "language": "python",
   "name": "python3"
  },
  "language_info": {
   "codemirror_mode": {
    "name": "ipython",
    "version": 3
   },
   "file_extension": ".py",
   "mimetype": "text/x-python",
   "name": "python",
   "nbconvert_exporter": "python",
   "pygments_lexer": "ipython3",
   "version": "3.8.17"
  },
  "orig_nbformat": 4
 },
 "nbformat": 4,
 "nbformat_minor": 2
}
