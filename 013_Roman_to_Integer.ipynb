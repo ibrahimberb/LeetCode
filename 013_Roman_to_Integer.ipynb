{
 "cells": [
  {
   "attachments": {},
   "cell_type": "markdown",
   "metadata": {},
   "source": [
    "# 13. Roman to Integer"
   ]
  },
  {
   "attachments": {},
   "cell_type": "markdown",
   "metadata": {},
   "source": [
    "https://leetcode.com/problems/longest-common-prefix/"
   ]
  },
  {
   "cell_type": "code",
   "execution_count": 8,
   "metadata": {},
   "outputs": [
    {
     "name": "stdout",
     "output_type": "stream",
     "text": [
      "3\n",
      "58\n",
      "1994\n"
     ]
    }
   ],
   "source": [
    "def roman_to_int(string: str) -> int:\n",
    "    mapping = {\n",
    "        \"I\": 1,\n",
    "        \"V\": 5,\n",
    "        \"X\": 10,\n",
    "        \"L\": 50,\n",
    "        \"C\": 100,\n",
    "        \"D\": 500,\n",
    "        \"M\": 1000,\n",
    "    }\n",
    "\n",
    "    last_char = None\n",
    "    total = 0\n",
    "    for char in reversed(string):\n",
    "        if char == \"I\" and last_char in [\"V\", \"X\"]:\n",
    "            total -= mapping[char]\n",
    "        elif char == \"X\" and last_char in [\"L\", \"C\"]:\n",
    "            total -= mapping[char]      \n",
    "        elif char == \"C\" and last_char in [\"D\", \"M\"]:\n",
    "            total -= mapping[char]\n",
    "        else:\n",
    "            total += mapping[char]\n",
    "        \n",
    "        last_char = char\n",
    "    \n",
    "    return total\n",
    "\n",
    "\n",
    "print(roman_to_int(\"III\"))\n",
    "print(roman_to_int(\"LVIII\"))\n",
    "print(roman_to_int(\"MCMXCIV\"))"
   ]
  },
  {
   "cell_type": "code",
   "execution_count": 12,
   "metadata": {},
   "outputs": [
    {
     "name": "stdout",
     "output_type": "stream",
     "text": [
      "3\n",
      "58\n",
      "1994\n"
     ]
    }
   ],
   "source": [
    "def roman_to_int(string: str) -> int:\n",
    "    mapping = {\n",
    "        \"I\": 1,\n",
    "        \"V\": 5,\n",
    "        \"X\": 10,\n",
    "        \"L\": 50,\n",
    "        \"C\": 100,\n",
    "        \"D\": 500,\n",
    "        \"M\": 1000,\n",
    "    }\n",
    "\n",
    "    total = 0\n",
    "    for i, _ in enumerate(string[:-1]):\n",
    "        if mapping[string[i]] < mapping[string[i + 1]]:\n",
    "            total -= mapping[string[i]]\n",
    "        else:\n",
    "            total += mapping[string[i]]\n",
    "\n",
    "    return total + mapping[string[-1]]\n",
    "\n",
    "print(roman_to_int(\"III\"))\n",
    "print(roman_to_int(\"LVIII\"))\n",
    "print(roman_to_int(\"MCMXCIV\"))"
   ]
  },
  {
   "cell_type": "code",
   "execution_count": null,
   "metadata": {},
   "outputs": [],
   "source": []
  }
 ],
 "metadata": {
  "kernelspec": {
   "display_name": "CaseTA",
   "language": "python",
   "name": "python3"
  },
  "language_info": {
   "codemirror_mode": {
    "name": "ipython",
    "version": 3
   },
   "file_extension": ".py",
   "mimetype": "text/x-python",
   "name": "python",
   "nbconvert_exporter": "python",
   "pygments_lexer": "ipython3",
   "version": "3.10.9"
  },
  "orig_nbformat": 4
 },
 "nbformat": 4,
 "nbformat_minor": 2
}
