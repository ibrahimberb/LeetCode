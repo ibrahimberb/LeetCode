{
 "cells": [
  {
   "cell_type": "markdown",
   "metadata": {
    "collapsed": false,
    "pycharm": {
     "name": "#%% md\n"
    }
   },
   "source": [
    "# 31. Next Permutation\n",
    "\n",
    "A permutation of an array of integers is an arrangement of its members into a sequence or linear order.\n",
    "\n",
    "For example, for arr = [1,2,3], the following are all the permutations of arr: [1,2,3], [1,3,2], [2, 1, 3], [2, 3, 1], [3,1,2], [3,2,1].\n",
    "The next permutation of an array of integers is the next lexicographically greater permutation of its integer. More formally, if all the permutations of the array are sorted in one container according to their lexicographical order, then the next permutation of that array is the permutation that follows it in the sorted container. If such arrangement is not possible, the array must be rearranged as the lowest possible order (i.e., sorted in ascending order).\n",
    "\n",
    "For example, the next permutation of arr = [1,2,3] is [1,3,2].\n",
    "Similarly, the next permutation of arr = [2,3,1] is [3,1,2].\n",
    "While the next permutation of arr = [3,2,1] is [1,2,3] because [3,2,1] does not have a lexicographical larger rearrangement.\n",
    "Given an array of integers nums, find the next permutation of nums.\n",
    "\n",
    "The replacement must be in place and use only constant extra memory.\n",
    "\n",
    " \n",
    "\n",
    "Example 1:\n",
    "```\n",
    "Input: nums = [1,2,3]\n",
    "Output: [1,3,2]\n",
    "```\n",
    "\n",
    "Example 2:\n",
    "```\n",
    "Input: nums = [3,2,1]\n",
    "Output: [1,2,3]\n",
    "```\n",
    "\n",
    "Example 3:\n",
    "```\n",
    "Input: nums = [1,1,5]\n",
    "Output: [1,5,1]\n",
    "```\n",
    "\n",
    "Constraints:\n",
    "\n",
    "1 <= nums.length <= 100\n",
    "0 <= nums[i] <= 100"
   ]
  },
  {
   "cell_type": "code",
   "execution_count": 6,
   "metadata": {
    "collapsed": false,
    "pycharm": {
     "name": "#%%\n"
    }
   },
   "outputs": [
    {
     "name": "stdout",
     "output_type": "stream",
     "text": [
      "[2, 1, 3, 4, 5]\n"
     ]
    }
   ],
   "source": [
    "from itertools import permutations\n",
    "\n",
    "# TODO: understand the code.\n",
    "\n",
    "\n",
    "def next_permutations(nums):\n",
    "    # To find next permutations, we'll start from the end\n",
    "    i = j = len(nums) - 1\n",
    "    # First we'll find the first non-increasing element starting from the end\n",
    "    while i > 0 and nums[i - 1] >= nums[i]:\n",
    "        i -= 1\n",
    "\n",
    "    # After completion of the first loop, there will be two cases\n",
    "    # 1. Our i becomes zero (This will happen if the given array is sorted decreasingly). In this case, we'll simply reverse the sequence and will return\n",
    "    if i == 0:\n",
    "        nums.reverse()\n",
    "        return\n",
    "    # 2. If it's not zero then we'll find the first number grater then nums[i-1] starting from end\n",
    "    while nums[j] <= nums[i - 1]:\n",
    "        j -= 1\n",
    " \n",
    "    # Now out pointer is pointing at two different positions\n",
    "    # i. first non-assending number from end\n",
    "    # j. first number greater than nums[i-1]\n",
    "\n",
    "    # We'll swap these two numbers\n",
    "    nums[i - 1], nums[j] = nums[j], nums[i - 1]\n",
    "\n",
    "    # We'll reverse a sequence strating from i to end\n",
    "    nums[i:] = nums[len(nums) - 1 : i - 1 : -1]\n",
    "    # We don't need to return anything as we've modified nums in-place\n",
    "\n",
    "\n",
    "input_list = [2, 1, 5, 4, 3]\n",
    "next_permutations(input_list)\n",
    "print(input_list)"
   ]
  },
  {
   "cell_type": "code",
   "execution_count": 38,
   "metadata": {
    "collapsed": false,
    "pycharm": {
     "name": "#%%\n"
    }
   },
   "outputs": [
    {
     "data": {
      "text/plain": [
       "[(1, 2, 3, 4, 5),\n",
       " (1, 2, 3, 5, 4),\n",
       " (1, 2, 4, 3, 5),\n",
       " (1, 2, 4, 5, 3),\n",
       " (1, 2, 5, 3, 4),\n",
       " (1, 2, 5, 4, 3),\n",
       " (1, 3, 2, 4, 5),\n",
       " (1, 3, 2, 5, 4),\n",
       " (1, 3, 4, 2, 5),\n",
       " (1, 3, 4, 5, 2),\n",
       " (1, 3, 5, 2, 4),\n",
       " (1, 3, 5, 4, 2),\n",
       " (1, 4, 2, 3, 5),\n",
       " (1, 4, 2, 5, 3),\n",
       " (1, 4, 3, 2, 5),\n",
       " (1, 4, 3, 5, 2),\n",
       " (1, 4, 5, 2, 3),\n",
       " (1, 4, 5, 3, 2),\n",
       " (1, 5, 2, 3, 4),\n",
       " (1, 5, 2, 4, 3),\n",
       " (1, 5, 3, 2, 4),\n",
       " (1, 5, 3, 4, 2),\n",
       " (1, 5, 4, 2, 3),\n",
       " (1, 5, 4, 3, 2),\n",
       " (2, 1, 3, 4, 5),\n",
       " (2, 1, 3, 5, 4),\n",
       " (2, 1, 4, 3, 5),\n",
       " (2, 1, 4, 5, 3),\n",
       " (2, 1, 5, 3, 4),\n",
       " (2, 1, 5, 4, 3),\n",
       " (2, 3, 1, 4, 5),\n",
       " (2, 3, 1, 5, 4),\n",
       " (2, 3, 4, 1, 5),\n",
       " (2, 3, 4, 5, 1),\n",
       " (2, 3, 5, 1, 4),\n",
       " (2, 3, 5, 4, 1),\n",
       " (2, 4, 1, 3, 5),\n",
       " (2, 4, 1, 5, 3),\n",
       " (2, 4, 3, 1, 5),\n",
       " (2, 4, 3, 5, 1),\n",
       " (2, 4, 5, 1, 3),\n",
       " (2, 4, 5, 3, 1),\n",
       " (2, 5, 1, 3, 4),\n",
       " (2, 5, 1, 4, 3),\n",
       " (2, 5, 3, 1, 4),\n",
       " (2, 5, 3, 4, 1),\n",
       " (2, 5, 4, 1, 3),\n",
       " (2, 5, 4, 3, 1),\n",
       " (3, 1, 2, 4, 5),\n",
       " (3, 1, 2, 5, 4),\n",
       " (3, 1, 4, 2, 5),\n",
       " (3, 1, 4, 5, 2),\n",
       " (3, 1, 5, 2, 4),\n",
       " (3, 1, 5, 4, 2),\n",
       " (3, 2, 1, 4, 5),\n",
       " (3, 2, 1, 5, 4),\n",
       " (3, 2, 4, 1, 5),\n",
       " (3, 2, 4, 5, 1),\n",
       " (3, 2, 5, 1, 4),\n",
       " (3, 2, 5, 4, 1),\n",
       " (3, 4, 1, 2, 5),\n",
       " (3, 4, 1, 5, 2),\n",
       " (3, 4, 2, 1, 5),\n",
       " (3, 4, 2, 5, 1),\n",
       " (3, 4, 5, 1, 2),\n",
       " (3, 4, 5, 2, 1),\n",
       " (3, 5, 1, 2, 4),\n",
       " (3, 5, 1, 4, 2),\n",
       " (3, 5, 2, 1, 4),\n",
       " (3, 5, 2, 4, 1),\n",
       " (3, 5, 4, 1, 2),\n",
       " (3, 5, 4, 2, 1),\n",
       " (4, 1, 2, 3, 5),\n",
       " (4, 1, 2, 5, 3),\n",
       " (4, 1, 3, 2, 5),\n",
       " (4, 1, 3, 5, 2),\n",
       " (4, 1, 5, 2, 3),\n",
       " (4, 1, 5, 3, 2),\n",
       " (4, 2, 1, 3, 5),\n",
       " (4, 2, 1, 5, 3),\n",
       " (4, 2, 3, 1, 5),\n",
       " (4, 2, 3, 5, 1),\n",
       " (4, 2, 5, 1, 3),\n",
       " (4, 2, 5, 3, 1),\n",
       " (4, 3, 1, 2, 5),\n",
       " (4, 3, 1, 5, 2),\n",
       " (4, 3, 2, 1, 5),\n",
       " (4, 3, 2, 5, 1),\n",
       " (4, 3, 5, 1, 2),\n",
       " (4, 3, 5, 2, 1),\n",
       " (4, 5, 1, 2, 3),\n",
       " (4, 5, 1, 3, 2),\n",
       " (4, 5, 2, 1, 3),\n",
       " (4, 5, 2, 3, 1),\n",
       " (4, 5, 3, 1, 2),\n",
       " (4, 5, 3, 2, 1),\n",
       " (5, 1, 2, 3, 4),\n",
       " (5, 1, 2, 4, 3),\n",
       " (5, 1, 3, 2, 4),\n",
       " (5, 1, 3, 4, 2),\n",
       " (5, 1, 4, 2, 3),\n",
       " (5, 1, 4, 3, 2),\n",
       " (5, 2, 1, 3, 4),\n",
       " (5, 2, 1, 4, 3),\n",
       " (5, 2, 3, 1, 4),\n",
       " (5, 2, 3, 4, 1),\n",
       " (5, 2, 4, 1, 3),\n",
       " (5, 2, 4, 3, 1),\n",
       " (5, 3, 1, 2, 4),\n",
       " (5, 3, 1, 4, 2),\n",
       " (5, 3, 2, 1, 4),\n",
       " (5, 3, 2, 4, 1),\n",
       " (5, 3, 4, 1, 2),\n",
       " (5, 3, 4, 2, 1),\n",
       " (5, 4, 1, 2, 3),\n",
       " (5, 4, 1, 3, 2),\n",
       " (5, 4, 2, 1, 3),\n",
       " (5, 4, 2, 3, 1),\n",
       " (5, 4, 3, 1, 2),\n",
       " (5, 4, 3, 2, 1)]"
      ]
     },
     "execution_count": 38,
     "metadata": {},
     "output_type": "execute_result"
    }
   ],
   "source": [
    "L = [1, 2, 3, 4, 5]\n",
    "list(permutations(L))"
   ]
  },
  {
   "cell_type": "code",
   "execution_count": 1,
   "metadata": {},
   "outputs": [
    {
     "data": {
      "text/plain": [
       "[5]"
      ]
     },
     "execution_count": 1,
     "metadata": {},
     "output_type": "execute_result"
    }
   ],
   "source": [
    "L = [1, 2, 3, 4, 5]\n",
    "L[4:]"
   ]
  },
  {
   "cell_type": "code",
   "execution_count": null,
   "metadata": {},
   "outputs": [],
   "source": []
  }
 ],
 "metadata": {
  "kernelspec": {
   "display_name": "Python 3",
   "language": "python",
   "name": "python3"
  },
  "language_info": {
   "codemirror_mode": {
    "name": "ipython",
    "version": 3
   },
   "file_extension": ".py",
   "mimetype": "text/x-python",
   "name": "python",
   "nbconvert_exporter": "python",
   "pygments_lexer": "ipython3",
   "version": "3.8.17"
  }
 },
 "nbformat": 4,
 "nbformat_minor": 0
}
