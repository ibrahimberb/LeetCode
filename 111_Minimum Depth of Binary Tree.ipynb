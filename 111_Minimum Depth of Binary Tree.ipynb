{
 "cells": [
  {
   "attachments": {},
   "cell_type": "markdown",
   "metadata": {},
   "source": [
    "111. Minimum Depth of Binary Tree"
   ]
  },
  {
   "attachments": {},
   "cell_type": "markdown",
   "metadata": {},
   "source": [
    "https://leetcode.com/problems/minimum-depth-of-binary-tree/description/"
   ]
  },
  {
   "cell_type": "code",
   "execution_count": null,
   "metadata": {},
   "outputs": [],
   "source": [
    "# Definition for a binary tree node.\n",
    "# class TreeNode:\n",
    "#     def __init__(self, val=0, left=None, right=None):\n",
    "#         self.val = val\n",
    "#         self.left = left\n",
    "#         self.right = right\n",
    "class Solution:\n",
    "    def minDepth(self, root: Optional[TreeNode]) -> int:\n",
    "        if not root:\n",
    "            return 0\n",
    "\n",
    "        left_depth = self.minDepth(root.left)\n",
    "        right_depth = self.minDepth(root.right)\n",
    "\n",
    "        if not root.left and not root.right:\n",
    "            return 1\n",
    "\n",
    "        if not root.left and root.right:\n",
    "            return 1 + right_depth\n",
    "        \n",
    "        if not root.right and root.left:\n",
    "            return 1 + left_depth\n",
    "        \n",
    "        return min(left_depth, right_depth) + 1\n"
   ]
  },
  {
   "cell_type": "code",
   "execution_count": null,
   "metadata": {},
   "outputs": [],
   "source": []
  }
 ],
 "metadata": {
  "language_info": {
   "name": "python"
  },
  "orig_nbformat": 4
 },
 "nbformat": 4,
 "nbformat_minor": 2
}
