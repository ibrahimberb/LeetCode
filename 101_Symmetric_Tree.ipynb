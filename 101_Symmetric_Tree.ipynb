{
 "cells": [
  {
   "attachments": {},
   "cell_type": "markdown",
   "metadata": {},
   "source": [
    "101. Symmetric Tree"
   ]
  },
  {
   "attachments": {},
   "cell_type": "markdown",
   "metadata": {},
   "source": [
    "https://leetcode.com/problems/symmetric-tree/"
   ]
  },
  {
   "cell_type": "code",
   "execution_count": null,
   "metadata": {},
   "outputs": [],
   "source": [
    "# Definition for a binary tree node.\n",
    "# class TreeNode:\n",
    "#     def __init__(self, val=0, left=None, right=None):\n",
    "#         self.val = val\n",
    "#         self.left = left\n",
    "#         self.right = right\n",
    "class Solution:\n",
    "    def isSame(self, leftroot, rightroot):\n",
    "        if not leftroot and not rightroot:\n",
    "            return True\n",
    "\n",
    "        if not leftroot or not rightroot:\n",
    "            return False\n",
    "\n",
    "        if leftroot.val != rightroot.val:\n",
    "            return False\n",
    "        \n",
    "        return self.isSame(leftroot.left, rightroot.right) and self.isSame(leftroot.right, rightroot.left)\n",
    "\n",
    "    def isSymmetric(self, root: Optional[TreeNode]) -> bool:\n",
    "        if not root:\n",
    "            return False\n",
    "\n",
    "        return self.isSame(root.left, root.right)\n"
   ]
  },
  {
   "cell_type": "code",
   "execution_count": null,
   "metadata": {},
   "outputs": [],
   "source": []
  }
 ],
 "metadata": {
  "language_info": {
   "name": "python"
  },
  "orig_nbformat": 4
 },
 "nbformat": 4,
 "nbformat_minor": 2
}
