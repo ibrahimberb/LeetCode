{
 "cells": [
  {
   "cell_type": "markdown",
   "metadata": {},
   "source": [
    "# 283. Move Zeroes\n",
    "\n",
    "**Difficulty**: Easy  \n",
    "\n",
    "## Problem Description\n",
    "\n",
    "Given an integer array `nums`, move all `0's` to the end of it while maintaining the relative order of the non-zero elements.\n",
    "\n",
    "**Note**: You must do this in-place without making a copy of the array.\n",
    "\n",
    "\n",
    "## Examples\n",
    "\n",
    "### Example 1:\n",
    "**Input**: \n",
    "```\n",
    "nums = [0, 1, 0, 3, 12]\n",
    "```\n",
    "**Output**: \n",
    "```\n",
    "[1, 3, 12, 0, 0]\n",
    "```\n",
    "\n",
    "### Example 2:\n",
    "**Input**: \n",
    "```\n",
    "nums = [0]\n",
    "```\n",
    "**Output**: \n",
    "```\n",
    "[0]\n",
    "```\n",
    "\n",
    "## Constraints\n",
    "\n",
    "- `1 <= nums.length <= 10^4`\n",
    "- `-2^31 <= nums[i] <= 2^31 - 1`\n",
    "\n",
    "## Follow-up\n",
    "\n",
    "- Could you minimize the total number of operations done?"
   ]
  },
  {
   "cell_type": "markdown",
   "metadata": {},
   "source": [
    "Naive approach and using external memory."
   ]
  },
  {
   "cell_type": "code",
   "execution_count": 2,
   "metadata": {},
   "outputs": [],
   "source": [
    "from typing import List\n",
    "\n",
    "\n",
    "def move_zeros(L: List[int]):\n",
    "    \"\"\"Do not modify the array.\"\"\"\n",
    "    nonzeros = []\n",
    "    zeros = []\n",
    "    for num in L:\n",
    "        if num == 0:\n",
    "            zeros.append(num)\n",
    "        else:\n",
    "            nonzeros.append(num)\n",
    "\n",
    "    result = nonzeros + zeros\n",
    "\n",
    "    return result\n",
    "\n",
    "\n",
    "assert move_zeros([0, 1, 0, 3, 12]) == [1, 3, 12, 0, 0]"
   ]
  },
  {
   "cell_type": "markdown",
   "metadata": {},
   "source": [
    "Run time complexity is $O(n)$ and memory use is $O(n)$."
   ]
  },
  {
   "cell_type": "markdown",
   "metadata": {},
   "source": [
    "We can eliminate the need of using an external memory by performing swaps. "
   ]
  },
  {
   "cell_type": "code",
   "execution_count": 17,
   "metadata": {},
   "outputs": [],
   "source": [
    "def move_zeros(L: List[int]):\n",
    "    \"\"\"Do not modify the array.\"\"\"\n",
    "    for i in range(len(L)):\n",
    "        if L[i] == 0:\n",
    "            j = i\n",
    "            while j < len(L) - 1:\n",
    "                L[j], L[j + 1] = L[j + 1], L[j]\n",
    "                j = j + 1\n",
    "\n",
    "\n",
    "L = [0, 1, 0, 3, 12]\n",
    "move_zeros(L)\n",
    "assert L == [1, 3, 12, 0, 0], L"
   ]
  },
  {
   "cell_type": "markdown",
   "metadata": {},
   "source": [
    "And that will have the $O(n^2)$ time complexity, although we won't need to use any external memory."
   ]
  },
  {
   "cell_type": "markdown",
   "metadata": {},
   "source": [
    "Finally, it is possible to further optimize the code. We can \"accumulate\" the zero region inside the array."
   ]
  },
  {
   "cell_type": "code",
   "execution_count": 21,
   "metadata": {},
   "outputs": [],
   "source": [
    "def move_zeros(L: List[int]):\n",
    "    \"\"\"Do not modify the array.\"\"\"\n",
    "    first_zero = 0\n",
    "    for i in range(len(L)):\n",
    "        if L[i] != 0:\n",
    "            # Swap the element with a location of first zero.\n",
    "            L[i], L[first_zero] = L[first_zero], L[i]\n",
    "            first_zero = first_zero + 1\n",
    "\n",
    "\n",
    "L = [0, 1, 0, 3, 12]\n",
    "move_zeros(L)\n",
    "assert L == [1, 3, 12, 0, 0], L"
   ]
  },
  {
   "cell_type": "markdown",
   "metadata": {},
   "source": [
    "The time complexity would be $O(n)$ and memory complexity would be $O(1)$. "
   ]
  },
  {
   "cell_type": "code",
   "execution_count": null,
   "metadata": {},
   "outputs": [],
   "source": []
  }
 ],
 "metadata": {
  "kernelspec": {
   "display_name": "CaseTA",
   "language": "python",
   "name": "python3"
  },
  "language_info": {
   "codemirror_mode": {
    "name": "ipython",
    "version": 3
   },
   "file_extension": ".py",
   "mimetype": "text/x-python",
   "name": "python",
   "nbconvert_exporter": "python",
   "pygments_lexer": "ipython3",
   "version": "3.8.17"
  },
  "orig_nbformat": 4
 },
 "nbformat": 4,
 "nbformat_minor": 2
}
