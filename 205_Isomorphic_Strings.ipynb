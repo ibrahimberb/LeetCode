{
 "cells": [
  {
   "attachments": {},
   "cell_type": "markdown",
   "metadata": {},
   "source": [
    "# 205. Isomorphic Strings\n",
    "\n",
    "Given two strings s and t, determine if they are isomorphic.\n",
    "\n",
    "Two strings s and t are isomorphic if the characters in s can be replaced to get t.\n",
    "\n",
    "All occurrences of a character must be replaced with another character while preserving the order of characters. No two characters may map to the same character, but a character may map to itself.\n",
    "\n",
    "\n",
    "**Example 1:**\n",
    "\n",
    "```\n",
    "Input: s = \"egg\", t = \"add\"\n",
    "Output: true\n",
    "```\n",
    "\n",
    "**Example 2:**\n",
    "\n",
    "```\n",
    "Input: s = \"foo\", t = \"bar\"\n",
    "Output: false\n",
    "```\n",
    "\n",
    "**Example 3:**\n",
    "\n",
    "```\n",
    "Input: s = \"paper\", t = \"title\"\n",
    "Output: true\n",
    "```\n",
    "\n",
    "**Constraints:**\n",
    "\n",
    "```\n",
    "1 <= s.length <= 5 * 104\n",
    "t.length == s.length\n",
    "s and t consist of any valid ascii character.\n",
    "```"
   ]
  },
  {
   "cell_type": "code",
   "execution_count": 12,
   "metadata": {},
   "outputs": [],
   "source": [
    "def test_is_isomorphic(fun):\n",
    "    assert fun(\"paper\", \"title\") == True\n",
    "    assert fun(\"egg\", \"add\") == True\n",
    "    assert fun(\"foo\", \"bar\") == False\n",
    "    assert fun(\"badc\", \"baba\") == False\n",
    "    print(\"congrats!\")"
   ]
  },
  {
   "cell_type": "code",
   "execution_count": 15,
   "metadata": {},
   "outputs": [
    {
     "name": "stdout",
     "output_type": "stream",
     "text": [
      "congrats!\n"
     ]
    }
   ],
   "source": [
    "# Perhaps not the most clean solution ever, but it works :)\n",
    "def is_isomorphic(s, t):\n",
    "    mapping = {}\n",
    "    for c1, c2 in zip(s, t):\n",
    "        # print((c1, c2))\n",
    "        if c1 in mapping and mapping[c1] != c2:\n",
    "            return False\n",
    "            \n",
    "        else:\n",
    "            if c2 in mapping.values() and c1 not in mapping:\n",
    "                return False\n",
    "            else:\n",
    "                mapping[c1] = c2\n",
    "\n",
    "    return True\n",
    "\n",
    "test_is_isomorphic(is_isomorphic)"
   ]
  },
  {
   "cell_type": "code",
   "execution_count": 22,
   "metadata": {},
   "outputs": [
    {
     "name": "stdout",
     "output_type": "stream",
     "text": [
      "[0, 1, 2, 3, 4, 0, 6]\n",
      "congrats!\n"
     ]
    }
   ],
   "source": [
    "# Of course, we have a one-liner.\n",
    "\n",
    "print(list(map(\"ibrahim\".find, \"ibrahim\")))\n",
    "\n",
    "\n",
    "def is_isomorphic(s, t):\n",
    "    return list(map(s.find, s)) == list(map(t.find, t))\n",
    "\n",
    "\n",
    "test_is_isomorphic(is_isomorphic)"
   ]
  },
  {
   "cell_type": "code",
   "execution_count": 23,
   "metadata": {},
   "outputs": [
    {
     "name": "stdout",
     "output_type": "stream",
     "text": [
      "congrats!\n"
     ]
    }
   ],
   "source": [
    "# Using two dictionaries, we can also have simpler solution.\n",
    "\n",
    "\n",
    "def is_isomorphic(s, t):\n",
    "    s2t, t2s = {}, {}\n",
    "    for i in range(len(s)):\n",
    "        if s[i] in s2t and s2t[s[i]] != t[i]:\n",
    "            return False\n",
    "        if t[i] in t2s and t2s[t[i]] != s[i]:\n",
    "            return False\n",
    "        s2t[s[i]] = t[i]\n",
    "        t2s[t[i]] = s[i]\n",
    "    return True\n",
    "\n",
    "\n",
    "test_is_isomorphic(is_isomorphic)"
   ]
  },
  {
   "cell_type": "code",
   "execution_count": 24,
   "metadata": {},
   "outputs": [
    {
     "name": "stdout",
     "output_type": "stream",
     "text": [
      "{'p': [0, 2], 'a': [1], 'e': [3], 'r': [4]} {'t': [0, 2], 'i': [1], 'l': [3], 'e': [4]}\n",
      "{'e': [0], 'g': [1, 2]} {'a': [0], 'd': [1, 2]}\n",
      "{'f': [0], 'o': [1, 2]} {'b': [0], 'a': [1], 'r': [2]}\n",
      "{'b': [0], 'a': [1], 'd': [2], 'c': [3]} {'b': [0, 2], 'a': [1, 3]}\n",
      "congrats!\n"
     ]
    }
   ],
   "source": [
    "# Another two-dictionary solution.\n",
    "\n",
    "\n",
    "def is_isomorphic(s, t):\n",
    "    ds, dt = {}, {}\n",
    "    for i, val in enumerate(s):\n",
    "        ds[val] = ds.get(val, []) + [i]\n",
    "    for i, val in enumerate(t):\n",
    "        dt[val] = dt.get(val, []) + [i]\n",
    "    \n",
    "    print(ds, dt)\n",
    "    return sorted(ds.values()) == sorted(dt.values())\n",
    "\n",
    "\n",
    "test_is_isomorphic(is_isomorphic)"
   ]
  },
  {
   "cell_type": "code",
   "execution_count": 31,
   "metadata": {},
   "outputs": [
    {
     "data": {
      "text/plain": [
       "{('a', 's'),\n",
       " ('b', 'r'),\n",
       " ('h', 'e'),\n",
       " ('i', 'n'),\n",
       " ('i', 'p'),\n",
       " ('m', 't'),\n",
       " ('r', 'e')}"
      ]
     },
     "execution_count": 31,
     "metadata": {},
     "output_type": "execute_result"
    }
   ],
   "source": [
    "set(zip(\"ibrahim\", \"present\"))"
   ]
  },
  {
   "cell_type": "code",
   "execution_count": 33,
   "metadata": {},
   "outputs": [
    {
     "name": "stdout",
     "output_type": "stream",
     "text": [
      "congrats!\n"
     ]
    }
   ],
   "source": [
    "# Using sets.\n",
    "\n",
    "\n",
    "def is_isomorphic(s, t):\n",
    "    return len(set(zip(s, t))) == len(set(s)) == len(set(t))\n",
    "\n",
    "\n",
    "test_is_isomorphic(is_isomorphic)"
   ]
  },
  {
   "cell_type": "code",
   "execution_count": null,
   "metadata": {},
   "outputs": [],
   "source": []
  }
 ],
 "metadata": {
  "kernelspec": {
   "display_name": "CaseTA",
   "language": "python",
   "name": "python3"
  },
  "language_info": {
   "codemirror_mode": {
    "name": "ipython",
    "version": 3
   },
   "file_extension": ".py",
   "mimetype": "text/x-python",
   "name": "python",
   "nbconvert_exporter": "python",
   "pygments_lexer": "ipython3",
   "version": "3.10.9"
  },
  "orig_nbformat": 4
 },
 "nbformat": 4,
 "nbformat_minor": 2
}
