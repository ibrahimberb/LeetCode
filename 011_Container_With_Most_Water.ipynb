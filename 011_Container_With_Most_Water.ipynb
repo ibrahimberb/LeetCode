{
 "cells": [
  {
   "cell_type": "markdown",
   "metadata": {},
   "source": [
    "## 11. Container With Most Water\n",
    "\n",
    "### Difficulty: Medium\n",
    "\n",
    "### Problem Statement:\n",
    "You are given an integer array `height` of length `n`. There are `n` vertical lines drawn such that the two endpoints of the `i-th` line are `(i, 0)` and `(i, height[i])`.\n",
    "\n",
    "Find two lines that together with the x-axis form a container, such that the container holds the most water.\n",
    "\n",
    "Return the maximum amount of water a container can store.\n",
    "\n",
    "**Note**: The container must be formed using two lines and the x-axis. You cannot slant the container.\n",
    "\n",
    "### Examples:\n",
    "\n",
    "#### Example 1:\n",
    "\n",
    "![Alt text](image.png)\n",
    "\n",
    "**Input**: \n",
    "height = [1,8,6,2,5,4,8,3,7]\n",
    "\n",
    "**Output**: \n",
    "49\n",
    "\n",
    "**Explanation**: \n",
    "The vertical lines are represented by the array `[1,8,6,2,5,4,8,3,7]`. In this case, the maximum area of water the container can hold is 49 units.\n",
    "\n",
    "#### Example 2:\n",
    "**Input**: \n",
    "height = [1,1]\n",
    "\n",
    "**Output**: \n",
    "1\n",
    "\n",
    "### Constraints:\n",
    "- `n == height.length`\n",
    "- `2 <= n <= 105`\n",
    "- `0 <= height[i] <= 104`\n"
   ]
  },
  {
   "cell_type": "markdown",
   "metadata": {},
   "source": [
    "Brute-force solution, $O(n^2)$."
   ]
  },
  {
   "cell_type": "code",
   "execution_count": null,
   "metadata": {},
   "outputs": [],
   "source": [
    "from typing import List\n",
    "\n",
    "\n",
    "def maxArea(heights: List[int]) -> int:\n",
    "    max_volume = 0\n",
    "    for L in range(len(heights) - 1):\n",
    "        for R in range(L + 1, len(heights)):\n",
    "            max_volume = max(\n",
    "                max_volume,\n",
    "                min(heights[L], heights[R]) * (R - L)\n",
    "            )\n",
    "    \n",
    "    return max_volume\n"
   ]
  },
  {
   "cell_type": "markdown",
   "metadata": {},
   "source": [
    "Two-pointer approach, $O(n)$."
   ]
  },
  {
   "cell_type": "code",
   "execution_count": null,
   "metadata": {},
   "outputs": [],
   "source": [
    "\n",
    "\n",
    "def maxArea(heights: List[int]) -> int:\n",
    "    L = 0\n",
    "    R = len(heights) - 1\n",
    "    max_V = 0\n",
    "    while L < R:\n",
    "        V = min(heights[L], heights[R]) * (R - L)\n",
    "        max_V = max(max_V, V)\n",
    "\n",
    "        if heights[L] <= heights[R]:\n",
    "            L = L + 1\n",
    "\n",
    "        else:\n",
    "            R = R - 1\n",
    "\n",
    "    return max_V"
   ]
  },
  {
   "cell_type": "code",
   "execution_count": null,
   "metadata": {
    "vscode": {
     "languageId": "plaintext"
    }
   },
   "outputs": [],
   "source": []
  }
 ],
 "metadata": {
  "language_info": {
   "name": "python"
  },
  "orig_nbformat": 4
 },
 "nbformat": 4,
 "nbformat_minor": 2
}
