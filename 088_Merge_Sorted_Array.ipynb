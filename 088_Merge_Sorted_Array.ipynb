{
 "cells": [
  {
   "attachments": {},
   "cell_type": "markdown",
   "metadata": {},
   "source": [
    "88. Merge Sorted Array"
   ]
  },
  {
   "attachments": {},
   "cell_type": "markdown",
   "metadata": {},
   "source": [
    "https://leetcode.com/problems/merge-sorted-array/"
   ]
  },
  {
   "cell_type": "code",
   "execution_count": 14,
   "metadata": {},
   "outputs": [
    {
     "name": "stdout",
     "output_type": "stream",
     "text": [
      "[2, 3, 4, 0, 0, 0, 0, 0, 0]\n",
      "Entered while\n",
      "Entered while\n",
      "Entered while\n",
      "Entered while\n",
      "[1, 1, 1, 1, 2, 2, 3, 3, 4]\n"
     ]
    }
   ],
   "source": [
    "def merge(nums1, m, nums2, n):\n",
    "\n",
    "    print(nums1)\n",
    "\n",
    "    i = m - 1\n",
    "    j = n - 1\n",
    "    k = m + n - 1\n",
    "\n",
    "    while 0 <= i and 0 <= j:\n",
    "        print(\"Entered while\")\n",
    "        if nums1[i] < nums2[j]:\n",
    "            nums1[k] = nums2[j]\n",
    "            j = j - 1\n",
    "        \n",
    "        else:\n",
    "            nums1[k] = nums1[i]\n",
    "            i = i - 1\n",
    "        \n",
    "        k = k - 1\n",
    "\n",
    "\n",
    "    if j >= 0:\n",
    "        nums1[:k+1] = nums2[:j+1]\n",
    "\n",
    "    print(nums1)\n",
    "\n",
    "\n",
    "\n",
    "# nums1 = [1, 2, 3, 0, 0, 0]\n",
    "# m = 3\n",
    "# nums2 = [4, 5, 6]\n",
    "# n = 3\n",
    "\n",
    "nums1 = [2, 3, 4, 0, 0, 0, 0, 0, 0]\n",
    "m = 3\n",
    "nums2 = [1, 1, 1, 1, 2, 3]\n",
    "n = 6\n",
    "\n",
    "merge(nums1, m, nums2, n)"
   ]
  },
  {
   "cell_type": "code",
   "execution_count": null,
   "metadata": {},
   "outputs": [],
   "source": []
  },
  {
   "cell_type": "code",
   "execution_count": null,
   "metadata": {},
   "outputs": [],
   "source": []
  },
  {
   "cell_type": "code",
   "execution_count": null,
   "metadata": {},
   "outputs": [],
   "source": []
  }
 ],
 "metadata": {
  "kernelspec": {
   "display_name": "CaseTA",
   "language": "python",
   "name": "python3"
  },
  "language_info": {
   "codemirror_mode": {
    "name": "ipython",
    "version": 3
   },
   "file_extension": ".py",
   "mimetype": "text/x-python",
   "name": "python",
   "nbconvert_exporter": "python",
   "pygments_lexer": "ipython3",
   "version": "3.10.9"
  },
  "orig_nbformat": 4
 },
 "nbformat": 4,
 "nbformat_minor": 2
}
