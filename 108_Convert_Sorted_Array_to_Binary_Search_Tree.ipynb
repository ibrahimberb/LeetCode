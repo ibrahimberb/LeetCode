{
 "cells": [
  {
   "attachments": {},
   "cell_type": "markdown",
   "metadata": {},
   "source": [
    "# 108. Convert Sorted Array to Binary Search Tree\n",
    "\n",
    "https://leetcode.com/problems/convert-sorted-array-to-binary-search-tree/description/\n",
    "\n",
    "Given an integer array `nums` where the elements are sorted in ascending order, convert it to a _**height-balanced**_ binary search tree.\n",
    "\n",
    "```\n",
    "Input: nums = [-10,-3,0,5,9]\n",
    "Output: [0,-3,9,-10,null,5]\n",
    "Explanation: [0,-10,5,null,-3,null,9] is also accepted:\n",
    "```"
   ]
  },
  {
   "cell_type": "code",
   "execution_count": 3,
   "metadata": {},
   "outputs": [],
   "source": [
    "class TreeNode(object):\n",
    "    def __init__(self, val=0, left=None, right=None):\n",
    "        self.val = val\n",
    "        self.left = left\n",
    "        self.right = right\n",
    "\n",
    "\n",
    "def sortedArrayToBST(nums):\n",
    "    total_nums = len(nums)\n",
    "    if not total_nums:\n",
    "        return None\n",
    "\n",
    "    mid = total_nums // 2\n",
    "    mid_node = nums[mid]\n",
    "    return TreeNode(\n",
    "        mid_node,\n",
    "        sortedArrayToBST(nums[:mid]),\n",
    "        sortedArrayToBST(nums[mid + 1 :]),\n",
    "    )\n",
    "\n",
    "\n",
    "def dfs(root):\n",
    "    if not root:\n",
    "        return\n",
    "    \n",
    "    dfs(root.left)\n",
    "    print(root.val)\n",
    "    dfs(root.right)\n",
    "\n",
    "\n",
    "nums = [-10, -3, 0, 5, 9]\n",
    "bst = sortedArrayToBST(nums)"
   ]
  },
  {
   "cell_type": "code",
   "execution_count": 4,
   "metadata": {},
   "outputs": [
    {
     "name": "stdout",
     "output_type": "stream",
     "text": [
      "-10\n",
      "-3\n",
      "0\n",
      "5\n",
      "9\n"
     ]
    }
   ],
   "source": [
    "dfs(bst)"
   ]
  },
  {
   "cell_type": "code",
   "execution_count": null,
   "metadata": {},
   "outputs": [],
   "source": []
  }
 ],
 "metadata": {
  "kernelspec": {
   "display_name": "CaseTA",
   "language": "python",
   "name": "python3"
  },
  "language_info": {
   "codemirror_mode": {
    "name": "ipython",
    "version": 3
   },
   "file_extension": ".py",
   "mimetype": "text/x-python",
   "name": "python",
   "nbconvert_exporter": "python",
   "pygments_lexer": "ipython3",
   "version": "3.10.9"
  },
  "orig_nbformat": 4
 },
 "nbformat": 4,
 "nbformat_minor": 2
}
