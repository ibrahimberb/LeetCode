{
 "cells": [
  {
   "cell_type": "markdown",
   "metadata": {},
   "source": [
    "# 46. Permutation\n",
    "\n",
    "Given an array nums of distinct integers, return all the possible permutations. You can return the answer in any order.\n",
    " \n",
    "\n",
    "**Example 1:**\n",
    "```\n",
    "Input: nums = [1,2,3]\n",
    "Output: [[1,2,3],[1,3,2],[2,1,3],[2,3,1],[3,1,2],[3,2,1]]\n",
    "```\n",
    "\n",
    "**Example 2:**\n",
    "```\n",
    "Input: nums = [0,1]\n",
    "Output: [[0,1],[1,0]]\n",
    "```\n",
    "\n",
    "**Example 3:**\n",
    "```\n",
    "Input: nums = [1]\n",
    "Output: [[1]]\n",
    "```\n",
    "\n",
    "\n",
    "**Constraints:**\n",
    "```\n",
    "1 <= nums.length <= 6\n",
    "-10 <= nums[i] <= 10\n",
    "All the integers of nums are unique.\n",
    "```"
   ]
  },
  {
   "cell_type": "code",
   "execution_count": 1,
   "metadata": {},
   "outputs": [],
   "source": [
    "def test_permutations(fun):\n",
    "    assert sorted(fun([1, 2, 3])) == sorted(\n",
    "        [[1, 2, 3], [1, 3, 2], [2, 1, 3], [2, 3, 1], [3, 1, 2], [3, 2, 1]]\n",
    "    )\n",
    "    assert sorted(fun([0, 1])) == sorted([[0, 1], [1, 0]])\n",
    "    assert sorted(fun([1])) == sorted([[1]])\n",
    "    print(\"All tests passed successfully!\")"
   ]
  },
  {
   "cell_type": "code",
   "execution_count": 2,
   "metadata": {},
   "outputs": [
    {
     "name": "stdout",
     "output_type": "stream",
     "text": [
      "All tests passed successfully!\n"
     ]
    }
   ],
   "source": [
    "# Let's start with the easiest solution, using the library.\n",
    "import itertools\n",
    "\n",
    "\n",
    "def permutations(nums):\n",
    "    return map(list, itertools.permutations(nums))\n",
    "\n",
    "\n",
    "test_permutations(permutations)"
   ]
  },
  {
   "cell_type": "code",
   "execution_count": 3,
   "metadata": {},
   "outputs": [
    {
     "name": "stdout",
     "output_type": "stream",
     "text": [
      "All tests passed successfully!\n"
     ]
    }
   ],
   "source": [
    "def permutations(nums):\n",
    "    if len(nums) == 1:\n",
    "        return [[nums[0]]]\n",
    "\n",
    "    if len(nums) == 2:\n",
    "        return [[nums[0], nums[1]], [nums[1], nums[0]]]\n",
    "\n",
    "    results = []\n",
    "    for i, n1 in enumerate(nums):\n",
    "        aux = permutations(nums[:i] + nums[i + 1 :])\n",
    "        aux = [L + [n1] for L in aux]\n",
    "        results.extend(aux)\n",
    "\n",
    "    return results\n",
    "\n",
    "\n",
    "test_permutations(permutations)"
   ]
  },
  {
   "cell_type": "code",
   "execution_count": 4,
   "metadata": {},
   "outputs": [
    {
     "name": "stdout",
     "output_type": "stream",
     "text": [
      "All tests passed successfully!\n"
     ]
    }
   ],
   "source": [
    "# Now, let's try to implement the algorithm ourselves.\n",
    "def permute(nums):\n",
    "    # If the list is empty, we return an empty list, this is our base case.\n",
    "    if len(nums) == 1:\n",
    "        return [nums]\n",
    "\n",
    "    # This list will contain our permutations\n",
    "    result = []\n",
    "    for i in range(len(nums)):\n",
    "        # We need to remove the current element from the list\n",
    "        others = nums[:i] + nums[i + 1 :]\n",
    "        # Recursively generate all the permutations for the others\n",
    "        other_permutations = permute(others)\n",
    "        # Add the current element to the beginning of each of the other permutations\n",
    "        for permutation in other_permutations:\n",
    "            # It does not matter where we add the current element, so we just add it to the end.\n",
    "            complete_permutation = permutation + [nums[i]]\n",
    "            result.append(complete_permutation)\n",
    "\n",
    "    return result\n",
    "\n",
    "\n",
    "test_permutations(permute)"
   ]
  },
  {
   "cell_type": "code",
   "execution_count": 5,
   "metadata": {},
   "outputs": [
    {
     "name": "stdout",
     "output_type": "stream",
     "text": [
      "All tests passed successfully!\n"
     ]
    }
   ],
   "source": [
    "# We can also use DFS to solve this problem.\n",
    "def permute_dfs(nums):\n",
    "    def dfs(nums, path, result):\n",
    "        # print(\"nums:\", nums, \"path:\", path, \"result:\", result)\n",
    "        if not nums:\n",
    "            # print(\"Adding path\", path)\n",
    "            result.append(path)\n",
    "            return\n",
    "\n",
    "        for i in range(len(nums)):\n",
    "            dfs(\n",
    "                nums[:i] + nums[i + 1 :],  # Remove the current element from the list\n",
    "                path + [nums[i]],  # Add the current element to the path\n",
    "                result,  # Pass the result list to the next call\n",
    "            )\n",
    "\n",
    "    result = []\n",
    "    dfs(nums, [], result)\n",
    "    return result\n",
    "\n",
    "\n",
    "test_permutations(permute_dfs)"
   ]
  },
  {
   "cell_type": "code",
   "execution_count": 7,
   "metadata": {},
   "outputs": [
    {
     "name": "stdout",
     "output_type": "stream",
     "text": [
      "All tests passed successfully!\n"
     ]
    }
   ],
   "source": [
    "def permutations(nums):\n",
    "    # Define a helper function to generate permutations starting from a given index\n",
    "    def backtrack(start):\n",
    "        # If we've reached the end of the list, add the current permutation to the result\n",
    "        if start == len(nums):\n",
    "            result.append(nums[:])\n",
    "        else:\n",
    "            # Keep track of which elements have already been used in the current permutation\n",
    "            used = set()\n",
    "            # Generate all permutations of the remaining elements\n",
    "            for i in range(start, len(nums)):\n",
    "                # Only use each element once in each permutation\n",
    "                if nums[i] not in used:\n",
    "                    # Swap the current element with the first element to generate new permutations\n",
    "                    nums[start], nums[i] = nums[i], nums[start]\n",
    "                    # Generate permutations of the remaining elements\n",
    "                    backtrack(start + 1)\n",
    "                    # Swap the elements back to restore the original list\n",
    "                    nums[start], nums[i] = nums[i], nums[start]\n",
    "                    # Add the current element to the set of used elements\n",
    "                    used.add(nums[i])\n",
    "\n",
    "    # Initialize an empty list to store the permutations\n",
    "    result = []\n",
    "    # Generate all permutations starting from index 0\n",
    "    backtrack(0)\n",
    "    # Return the list of unique permutations\n",
    "    return result\n",
    "\n",
    "\n",
    "test_permutations(permutations)"
   ]
  },
  {
   "cell_type": "code",
   "execution_count": null,
   "metadata": {},
   "outputs": [],
   "source": []
  }
 ],
 "metadata": {
  "kernelspec": {
   "display_name": "CaseTA",
   "language": "python",
   "name": "python3"
  },
  "language_info": {
   "codemirror_mode": {
    "name": "ipython",
    "version": 3
   },
   "file_extension": ".py",
   "mimetype": "text/x-python",
   "name": "python",
   "nbconvert_exporter": "python",
   "pygments_lexer": "ipython3",
   "version": "3.10.9"
  },
  "orig_nbformat": 4
 },
 "nbformat": 4,
 "nbformat_minor": 2
}
