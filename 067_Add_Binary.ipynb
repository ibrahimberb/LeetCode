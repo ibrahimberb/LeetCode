{
 "cells": [
  {
   "attachments": {},
   "cell_type": "markdown",
   "metadata": {},
   "source": [
    "# 67. Add Binary"
   ]
  },
  {
   "attachments": {},
   "cell_type": "markdown",
   "metadata": {},
   "source": [
    "https://leetcode.com/problems/add-binary/"
   ]
  },
  {
   "cell_type": "code",
   "execution_count": 3,
   "metadata": {},
   "outputs": [
    {
     "data": {
      "text/plain": [
       "<list_reverseiterator at 0x25cc4f58ac0>"
      ]
     },
     "execution_count": 3,
     "metadata": {},
     "output_type": "execute_result"
    }
   ],
   "source": [
    "def add_binary(s1, s2):\n",
    "    i = len(s1) - 1\n",
    "    j = len(s2) - 1\n",
    "\n",
    "    results = []\n",
    "    carry = 0\n",
    "    while i >= 0 or j >= 0 or carry:\n",
    "        x = int(s1[i]) if i >= 0 else 0\n",
    "        y = int(s2[j]) if j >= 0 else 0\n",
    "        val = x + y + carry\n",
    "        carry = val // 2\n",
    "        digit = val % 2\n",
    "        results.append(str(digit))\n",
    "        i -= 1\n",
    "        j -= 1\n",
    "\n",
    "    return \"\".join(results[::-1])\n"
   ]
  }
 ],
 "metadata": {
  "kernelspec": {
   "display_name": "CaseTA",
   "language": "python",
   "name": "python3"
  },
  "language_info": {
   "codemirror_mode": {
    "name": "ipython",
    "version": 3
   },
   "file_extension": ".py",
   "mimetype": "text/x-python",
   "name": "python",
   "nbconvert_exporter": "python",
   "pygments_lexer": "ipython3",
   "version": "3.10.9"
  },
  "orig_nbformat": 4
 },
 "nbformat": 4,
 "nbformat_minor": 2
}
