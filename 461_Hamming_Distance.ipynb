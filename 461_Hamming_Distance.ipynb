{
 "cells": [
  {
   "attachments": {},
   "cell_type": "markdown",
   "metadata": {},
   "source": [
    "# 461. Hamming Distance\n",
    "\n",
    "The Hamming distance between two integers is the number of positions at which the corresponding bits are different.\n",
    "\n",
    "Given two integers x and y, return the Hamming distance between them.\n",
    "\n",
    " \n",
    "\n",
    "**Example 1:**\n",
    "\n",
    "```\n",
    "Input: x = 1, y = 4\n",
    "Output: 2\n",
    "Explanation:\n",
    "1   (0 0 0 1)\n",
    "4   (0 1 0 0)\n",
    "       ↑   ↑\n",
    "```\n",
    "The above arrows point to positions where the corresponding bits are different.\n",
    "\n",
    "\n",
    "**Example 2:**\n",
    "\n",
    "```\n",
    "Input: x = 3, y = 1\n",
    "Output: 1\n",
    "```\n",
    "\n",
    "**Constraints:**\n",
    "```\n",
    "0 <= x, y <= 231 - 1\n",
    "```"
   ]
  },
  {
   "cell_type": "code",
   "execution_count": 24,
   "metadata": {},
   "outputs": [
    {
     "data": {
      "text/plain": [
       "3"
      ]
     },
     "execution_count": 24,
     "metadata": {},
     "output_type": "execute_result"
    }
   ],
   "source": [
    "def hamming_distance(x, y):\n",
    "    x_bin = bin(x)[2:]\n",
    "    y_bin = bin(y)[2:]\n",
    "    n = max(len(x_bin), len(y_bin))\n",
    "    x_bin = x_bin.zfill(n)\n",
    "    y_bin = y_bin.zfill(n)\n",
    "    hamming_distance = 0\n",
    "    for xx, yy in zip(x_bin, y_bin):\n",
    "        hamming_distance += 0 if xx == yy else 1\n",
    "\n",
    "    return hamming_distance\n",
    "\n",
    "\n",
    "hamming_distance(21, 12)"
   ]
  },
  {
   "cell_type": "code",
   "execution_count": 23,
   "metadata": {},
   "outputs": [
    {
     "data": {
      "text/plain": [
       "3"
      ]
     },
     "execution_count": 23,
     "metadata": {},
     "output_type": "execute_result"
    }
   ],
   "source": [
    "def hamming_distance(x, y):\n",
    "    return bin(x ^ y).count(\"1\")\n",
    "\n",
    "\n",
    "hamming_distance(21, 12)"
   ]
  },
  {
   "cell_type": "code",
   "execution_count": 50,
   "metadata": {},
   "outputs": [
    {
     "data": {
      "text/plain": [
       "3"
      ]
     },
     "execution_count": 50,
     "metadata": {},
     "output_type": "execute_result"
    }
   ],
   "source": [
    "def hamming_distance(x, y):\n",
    "    xor = x^y\n",
    "    dist = 0\n",
    "    while xor:\n",
    "        xor = xor & (xor - 1)\n",
    "        dist = dist + 1\n",
    "\n",
    "    return dist\n",
    "\n",
    "\n",
    "hamming_distance(21, 12)"
   ]
  },
  {
   "cell_type": "code",
   "execution_count": 44,
   "metadata": {},
   "outputs": [
    {
     "data": {
      "text/plain": [
       "63"
      ]
     },
     "execution_count": 44,
     "metadata": {},
     "output_type": "execute_result"
    }
   ],
   "source": [
    "a = 0\n",
    "b = 63\n",
    "xor = a ^ b\n",
    "xor"
   ]
  },
  {
   "cell_type": "code",
   "execution_count": 49,
   "metadata": {},
   "outputs": [
    {
     "name": "stdout",
     "output_type": "stream",
     "text": [
      "32\n",
      "0b100000\n"
     ]
    }
   ],
   "source": [
    "xor = xor & (xor -1)\n",
    "print(xor)\n",
    "print(bin(xor))"
   ]
  },
  {
   "cell_type": "code",
   "execution_count": null,
   "metadata": {},
   "outputs": [],
   "source": []
  }
 ],
 "metadata": {
  "kernelspec": {
   "display_name": "CaseTA",
   "language": "python",
   "name": "python3"
  },
  "language_info": {
   "codemirror_mode": {
    "name": "ipython",
    "version": 3
   },
   "file_extension": ".py",
   "mimetype": "text/x-python",
   "name": "python",
   "nbconvert_exporter": "python",
   "pygments_lexer": "ipython3",
   "version": "3.10.9"
  },
  "orig_nbformat": 4
 },
 "nbformat": 4,
 "nbformat_minor": 2
}
