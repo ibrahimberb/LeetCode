{
 "cells": [
  {
   "cell_type": "markdown",
   "metadata": {},
   "source": [
    "# 125. Valid Palindrome\n",
    "\n",
    "### Problem Description\n",
    "\n",
    "A phrase is a palindrome if, after converting all uppercase letters into lowercase letters and removing all non-alphanumeric characters, it reads the same forward and backward. Alphanumeric characters include letters and numbers.\n",
    "\n",
    "Given a string `s`, return `true` if it is a palindrome, or `false` otherwise.\n",
    "\n",
    "### Examples\n",
    "\n",
    "**Example 1:**\n",
    "\n",
    "- **Input:** `s = \"A man, a plan, a canal: Panama\"`\n",
    "- **Output:** `true`\n",
    "- **Explanation:** After removing non-alphanumeric characters and converting to lowercase, the string becomes `\"amanaplanacanalpanama\"`, which is a palindrome.\n",
    "\n",
    "**Example 2:**\n",
    "\n",
    "- **Input:** `s = \"race a car\"`\n",
    "- **Output:** `false`\n",
    "- **Explanation:** After removing non-alphanumeric characters and converting to lowercase, the string becomes `\"raceacar\"`, which is not a palindrome.\n",
    "\n",
    "**Example 3:**\n",
    "\n",
    "- **Input:** `s = \" \"`\n",
    "- **Output:** `true`\n",
    "- **Explanation:** After removing non-alphanumeric characters, the string is an empty string `\"\"`, which reads the same forward and backward. Therefore, it is a palindrome.\n",
    "\n",
    "### Constraints\n",
    "\n",
    "- `1 <= s.length <= 2 * 10^5`\n",
    "- `s` consists only of printable ASCII characters.\n"
   ]
  },
  {
   "cell_type": "code",
   "execution_count": 3,
   "metadata": {},
   "outputs": [],
   "source": [
    "def isPalindrome(s: str) -> bool:\n",
    "    L = 0\n",
    "    R = len(s) - 1\n",
    "    while L < R:\n",
    "        while not s[L].isalnum() and L < R:\n",
    "            L += 1\n",
    "        \n",
    "        while not s[R].isalnum() and L < R:\n",
    "            R -= 1\n",
    "        \n",
    "        if s[L].lower() != s[R].lower():\n",
    "            return False\n",
    "        \n",
    "        L += 1\n",
    "        R -= 1\n",
    "\n",
    "    return True\n",
    "\n",
    "\n",
    "assert isPalindrome(\"A man, a plan, a canal: Panama\") == True"
   ]
  },
  {
   "cell_type": "code",
   "execution_count": null,
   "metadata": {},
   "outputs": [],
   "source": []
  },
  {
   "cell_type": "code",
   "execution_count": null,
   "metadata": {},
   "outputs": [],
   "source": []
  }
 ],
 "metadata": {
  "kernelspec": {
   "display_name": "CaseTA",
   "language": "python",
   "name": "python3"
  },
  "language_info": {
   "codemirror_mode": {
    "name": "ipython",
    "version": 3
   },
   "file_extension": ".py",
   "mimetype": "text/x-python",
   "name": "python",
   "nbconvert_exporter": "python",
   "pygments_lexer": "ipython3",
   "version": "3.8.17"
  },
  "orig_nbformat": 4
 },
 "nbformat": 4,
 "nbformat_minor": 2
}
