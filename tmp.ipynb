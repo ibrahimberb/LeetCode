{
 "cells": [
  {
   "cell_type": "code",
   "execution_count": 72,
   "metadata": {},
   "outputs": [],
   "source": [
    "import numpy as np\n",
    "\n",
    "\n",
    "def print_matrix(matrix):\n",
    "    print(np.array(matrix))"
   ]
  },
  {
   "cell_type": "code",
   "execution_count": 47,
   "metadata": {},
   "outputs": [
    {
     "name": "stdout",
     "output_type": "stream",
     "text": [
      "= = = = = = = = = = = = = = = = = = = = = =\n",
      "current item: 1\n",
      "BEFORE MEMORY: defaultdict(<class 'int'>, {})\n",
      "> 1\n",
      "AFTER MEMORY: defaultdict(<class 'int'>, {1: 1})\n",
      "= = = = = = = = = = = = = = = = = = = = = =\n",
      "current item: 1\n",
      "BEFORE MEMORY: defaultdict(<class 'int'>, {1: 1})\n",
      "> 1\n",
      "AFTER MEMORY: defaultdict(<class 'int'>, {1: 2})\n",
      "= = = = = = = = = = = = = = = = = = = = = =\n",
      "current item: 4\n",
      "BEFORE MEMORY: defaultdict(<class 'int'>, {1: 2})\n",
      "> 1\n",
      "> 2\n",
      "> 3\n",
      "> 4\n",
      "AFTER MEMORY: defaultdict(<class 'int'>, {1: 2, 4: 1})\n",
      "= = = = = = = = = = = = = = = = = = = = = =\n",
      "current item: 6\n",
      "BEFORE MEMORY: defaultdict(<class 'int'>, {1: 2, 4: 1})\n",
      "> 4\n",
      "> 5\n",
      "> 6\n",
      "...removing pings at 1\n",
      "AFTER MEMORY: defaultdict(<class 'int'>, {4: 1, 6: 1})\n"
     ]
    }
   ],
   "source": [
    "from collections import defaultdict\n",
    "\n",
    "\n",
    "memory = defaultdict(int)\n",
    "\n",
    "\n",
    "# L = [1, 1, 1, 1, 1, 2, 2, 2, 3, 5, 6, 6]\n",
    "L = [1, 1, 4, 6]\n",
    "\n",
    "MAX_PING_1_SEC = 3\n",
    "MAX_PING_5_SEC = 5\n",
    "MAX_PING_10_SEC = 10\n",
    "\n",
    "PAST_5_SECONDS = set()\n",
    "\n",
    "PAST_10_SECONDS = set()\n",
    "\n",
    "last_time = 1\n",
    "for curr_time in L:\n",
    "    print(\"= = = = = = = = = = = = = = = = = = = = = =\")\n",
    "    print(f\"current item: {curr_time}\")\n",
    "    print(f\"BEFORE MEMORY: {memory}\")\n",
    "\n",
    "    if memory[curr_time] < MAX_PING_1_SEC:\n",
    "        memory[curr_time] += 1\n",
    "\n",
    "    else:\n",
    "        print(\">>>>>>>>>>>> [not allowed]\")\n",
    "\n",
    "    for i in range(last_time, curr_time + 1):\n",
    "        print(f\"> {i}\")\n",
    "\n",
    "        PAST_5_SECONDS.add(i)\n",
    "        for j in range(i - MAX_PING_5_SEC * 2, i - MAX_PING_5_SEC + 1):\n",
    "            if 1 <= j and memory[j]:\n",
    "                print(f\"...removing pings at {j}\")\n",
    "                del memory[j]\n",
    "\n",
    "    last_time = curr_time\n",
    "    print(f\"AFTER MEMORY: {memory}\")"
   ]
  },
  {
   "cell_type": "code",
   "execution_count": null,
   "metadata": {},
   "outputs": [],
   "source": []
  },
  {
   "cell_type": "code",
   "execution_count": 84,
   "metadata": {},
   "outputs": [
    {
     "data": {
      "text/plain": [
       "'1000'"
      ]
     },
     "execution_count": 84,
     "metadata": {},
     "output_type": "execute_result"
    }
   ],
   "source": [
    "bin(8)[2:]"
   ]
  },
  {
   "cell_type": "code",
   "execution_count": 89,
   "metadata": {},
   "outputs": [
    {
     "data": {
      "text/plain": [
       "'1000'"
      ]
     },
     "execution_count": 89,
     "metadata": {},
     "output_type": "execute_result"
    }
   ],
   "source": [
    "bin(int(bin(8)[2:], base=2))[2:]"
   ]
  },
  {
   "cell_type": "code",
   "execution_count": 79,
   "metadata": {},
   "outputs": [
    {
     "name": "stdout",
     "output_type": "stream",
     "text": [
      "[['X' 'o']\n",
      " ['+' '_']]\n",
      "\n",
      "[['+' 'X']\n",
      " ['_' 'o']]\n"
     ]
    }
   ],
   "source": [
    "def rotate_image(matix):\n",
    "    print_matrix(matrix)\n",
    "    n = len(matrix)\n",
    "\n",
    "    for i in range(n):\n",
    "        for j in range(i, n):\n",
    "            matrix[i][j], matrix[j][i] = matrix[j][i], matrix[i][j]\n",
    "\n",
    "        matrix[i].reverse()\n",
    "\n",
    "    print()\n",
    "    print_matrix(matrix)\n",
    "\n",
    "\n",
    "matrix = [[\"X\", \"o\"], [\"+\", \"_\"]]\n",
    "rotate_image(matrix)"
   ]
  },
  {
   "cell_type": "code",
   "execution_count": 64,
   "metadata": {},
   "outputs": [
    {
     "data": {
      "text/plain": [
       "[1, 2, 4]"
      ]
     },
     "execution_count": 64,
     "metadata": {},
     "output_type": "execute_result"
    }
   ],
   "source": [
    "L = [1, 2, 3, 4]\n",
    "i = 2\n",
    "from math import combL[:i] + L[i+1:]"
   ]
  },
  {
   "cell_type": "code",
   "execution_count": 126,
   "metadata": {},
   "outputs": [
    {
     "name": "stdout",
     "output_type": "stream",
     "text": [
      "[23, 26, 100]\n",
      "2\n"
     ]
    }
   ],
   "source": [
    "L1 = [24, 27, 0]\n",
    "L2 = [50, 50, 100]\n",
    "Q = 100\n",
    "\n",
    "needed = []\n",
    "for val1, val2 in zip(L1, L2):\n",
    "    needed.append(val2 - val1)\n",
    "\n",
    "needed.sort()\n",
    "print(needed)\n",
    "count = 0\n",
    "for item in needed:\n",
    "    if item <= Q:\n",
    "        Q = Q - item\n",
    "        count += 1\n",
    "\n",
    "print(count)\n"
   ]
  },
  {
   "cell_type": "code",
   "execution_count": 4,
   "metadata": {},
   "outputs": [
    {
     "data": {
      "text/plain": [
       "False"
      ]
     },
     "execution_count": 4,
     "metadata": {},
     "output_type": "execute_result"
    }
   ],
   "source": [
    "from collections import Counter\n",
    "\n",
    "L = [1, 2, 2, 3, 4]\n",
    "c1 = Counter(L)\n",
    "5 in c1"
   ]
  },
  {
   "cell_type": "code",
   "execution_count": 6,
   "metadata": {},
   "outputs": [
    {
     "data": {
      "text/plain": [
       "4"
      ]
     },
     "execution_count": 6,
     "metadata": {},
     "output_type": "execute_result"
    }
   ],
   "source": [
    "L = [4]\n",
    "\n",
    "val = L[0]"
   ]
  },
  {
   "cell_type": "code",
   "execution_count": 48,
   "metadata": {},
   "outputs": [
    {
     "data": {
      "text/plain": [
       "0"
      ]
     },
     "execution_count": 48,
     "metadata": {},
     "output_type": "execute_result"
    }
   ],
   "source": [
    "from collections import defaultdict as painkiller\n",
    "\n",
    "L = painkiller(int)\n",
    "\n",
    "L[0]"
   ]
  }
 ],
 "metadata": {
  "kernelspec": {
   "display_name": "Python 3",
   "language": "python",
   "name": "python3"
  },
  "language_info": {
   "codemirror_mode": {
    "name": "ipython",
    "version": 3
   },
   "file_extension": ".py",
   "mimetype": "text/x-python",
   "name": "python",
   "nbconvert_exporter": "python",
   "pygments_lexer": "ipython3",
   "version": "3.10.9"
  },
  "orig_nbformat": 4,
  "vscode": {
   "interpreter": {
    "hash": "3a87835ef3302642c595255454695d8396bb68a285bd230835682c4a4880a3d8"
   }
  }
 },
 "nbformat": 4,
 "nbformat_minor": 2
}
