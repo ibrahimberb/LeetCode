{
 "cells": [
  {
   "attachments": {},
   "cell_type": "markdown",
   "metadata": {},
   "source": [
    "# 3. Longest Substring Without Repeating Characters"
   ]
  },
  {
   "cell_type": "code",
   "execution_count": 27,
   "metadata": {},
   "outputs": [
    {
     "data": {
      "text/plain": [
       "3"
      ]
     },
     "execution_count": 27,
     "metadata": {},
     "output_type": "execute_result"
    }
   ],
   "source": [
    "def length_of_longest_substring(string: str) -> int:\n",
    "    n = len(string)\n",
    "    max_length = 0\n",
    "    left, right = 0, 0\n",
    "    seen_chars = set()\n",
    "    while left < n and right < n:\n",
    "        if string[right] not in seen_chars:\n",
    "            seen_chars.add(string[right])\n",
    "            right += 1\n",
    "            max_length = max(max_length, right - left)\n",
    "\n",
    "        else:\n",
    "            seen_chars.remove(string[left])\n",
    "            left += 1\n",
    "\n",
    "    return max_length\n",
    "\n",
    "\n",
    "length_of_longest_substring(\"dvdf\")"
   ]
  },
  {
   "cell_type": "code",
   "execution_count": null,
   "metadata": {},
   "outputs": [],
   "source": []
  },
  {
   "cell_type": "code",
   "execution_count": null,
   "metadata": {},
   "outputs": [],
   "source": []
  }
 ],
 "metadata": {
  "kernelspec": {
   "display_name": "CaseTA",
   "language": "python",
   "name": "python3"
  },
  "language_info": {
   "codemirror_mode": {
    "name": "ipython",
    "version": 3
   },
   "file_extension": ".py",
   "mimetype": "text/x-python",
   "name": "python",
   "nbconvert_exporter": "python",
   "pygments_lexer": "ipython3",
   "version": "3.10.9"
  },
  "orig_nbformat": 4
 },
 "nbformat": 4,
 "nbformat_minor": 2
}
