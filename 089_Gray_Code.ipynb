{
 "cells": [
  {
   "attachments": {},
   "cell_type": "markdown",
   "metadata": {},
   "source": [
    "# 89. Gray Code\n",
    "An n-bit gray code sequence is a sequence of 2n integers where:\n",
    "\n",
    "Every integer is in the inclusive range [0, 2n - 1],\n",
    "The first integer is 0,\n",
    "An integer appears no more than once in the sequence,\n",
    "The binary representation of every pair of adjacent integers differs by exactly one bit, and\n",
    "The binary representation of the first and last integers differs by exactly one bit.\n",
    "Given an integer n, return any valid n-bit gray code sequence.\n",
    "\n",
    " \n",
    "**Example 1:**\n",
    "```\n",
    "Input: n = 2\n",
    "Output: [0,1,3,2]\n",
    "```\n",
    "\n",
    "Explanation:\n",
    "The binary representation of [0,1,3,2] is [00,01,11,10].\n",
    "- 00 and 01 differ by one bit\n",
    "- 01 and 11 differ by one bit\n",
    "- 11 and 10 differ by one bit\n",
    "- 10 and 00 differ by one bit\n",
    "\n",
    "[0,2,3,1] is also a valid gray code sequence, whose binary representation is [00,10,11,01].\n",
    "- 00 and 10 differ by one bit\n",
    "- 10 and 11 differ by one bit\n",
    "- 11 and 01 differ by one bit\n",
    "- 01 and 00 differ by one bit\n",
    "\n",
    "**Example 2:**\n",
    "```\n",
    "Input: n = 1\n",
    "Output: [0,1]\n",
    "``` \n",
    "\n",
    "**Constraints:**\n",
    "```\n",
    "1 <= n <= 16\n",
    "```"
   ]
  },
  {
   "cell_type": "code",
   "execution_count": 87,
   "metadata": {},
   "outputs": [
    {
     "name": "stdout",
     "output_type": "stream",
     "text": [
      "i=1\n",
      "i=2\n",
      "i=3\n"
     ]
    },
    {
     "data": {
      "text/plain": [
       "[0, 1, 3, 2]"
      ]
     },
     "execution_count": 87,
     "metadata": {},
     "output_type": "execute_result"
    }
   ],
   "source": [
    "def gray_code(n):\n",
    "    res = [0]\n",
    "    for i in range(1, 2**n):\n",
    "        print(f\"{i=}\")\n",
    "        res.append(res[-1] ^ (i & -i))\n",
    "    return res\n",
    "\n",
    "\n",
    "n = 2\n",
    "gray_code(n)"
   ]
  },
  {
   "cell_type": "code",
   "execution_count": 86,
   "metadata": {},
   "outputs": [
    {
     "name": "stdout",
     "output_type": "stream",
     "text": [
      "i=1\t1\t0b1\n",
      "i=2\t2\t0b10\n",
      "i=3\t1\t0b1\n",
      "i=4\t4\t0b100\n",
      "i=5\t1\t0b1\n",
      "i=6\t2\t0b10\n",
      "i=7\t1\t0b1\n",
      "i=8\t8\t0b1000\n",
      "i=9\t1\t0b1\n"
     ]
    }
   ],
   "source": [
    "for i in range(1, 10):\n",
    "    print(f\"{i=}\", end=\"\\t\")\n",
    "    print(i & -i, end=\"\\t\")\n",
    "    print(bin(i & -i))"
   ]
  },
  {
   "cell_type": "code",
   "execution_count": null,
   "metadata": {},
   "outputs": [],
   "source": []
  }
 ],
 "metadata": {
  "kernelspec": {
   "display_name": "CaseTA",
   "language": "python",
   "name": "python3"
  },
  "language_info": {
   "codemirror_mode": {
    "name": "ipython",
    "version": 3
   },
   "file_extension": ".py",
   "mimetype": "text/x-python",
   "name": "python",
   "nbconvert_exporter": "python",
   "pygments_lexer": "ipython3",
   "version": "3.10.9"
  },
  "orig_nbformat": 4
 },
 "nbformat": 4,
 "nbformat_minor": 2
}
