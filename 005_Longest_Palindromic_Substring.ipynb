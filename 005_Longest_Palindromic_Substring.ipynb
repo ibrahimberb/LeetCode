{
 "cells": [
  {
   "attachments": {},
   "cell_type": "markdown",
   "metadata": {},
   "source": [
    "# 5. Longest Palindromic Substring\n",
    "\n",
    "Given a string s, return the longest \n",
    "palindromic substring in `s`.\n",
    "\n",
    " \n",
    "\n",
    "**Example 1:**\n",
    "```\n",
    "Input: s = \"babad\"\n",
    "Output: \"bab\"\n",
    "Explanation: \"aba\" is also a valid answer.\n",
    "```\n",
    "\n",
    "**Example 2:**\n",
    "```\n",
    "Input: s = \"cbbd\"\n",
    "Output: \"bb\"\n",
    "```\n",
    "\n",
    "**Constraints:**\n",
    "```\n",
    "1 <= s.length <= 1000\n",
    "s consist of only digits and English letters.\n",
    "```"
   ]
  },
  {
   "cell_type": "code",
   "execution_count": 25,
   "metadata": {},
   "outputs": [
    {
     "data": {
      "text/plain": [
       "'xnnx'"
      ]
     },
     "execution_count": 25,
     "metadata": {},
     "output_type": "execute_result"
    }
   ],
   "source": [
    "def longest_palindrome(s: str):\n",
    "    \"\"\"\n",
    "    Bruteforce solution.\n",
    "    \"\"\"\n",
    "    max_length = 0\n",
    "    answer = None\n",
    "    for i in range(len(s) + 1):\n",
    "        for j in range(i):\n",
    "            # print(j, i)\n",
    "            if s[j:i] == s[j:i][::-1] and max_length < len(s[j:i]):\n",
    "                max_length = len(s[j:i])\n",
    "                answer = s[j:i]\n",
    "\n",
    "    return answer\n",
    "\n",
    "s = \"borcdubqiupahpwjizjjbkncelfazeqynfbrnzuvbhjnyvrlkdyfyjjxnprfocrmisugizsgvhszooktdwhehojbrdbtgkiwkhpfjfcstwcajiuediebdhukqnroxbgtvottummbypokdljjvnthcbesoyigscekrqswdpalnjnhcnqrarxuufzzmkwizptyvjhpfidgmskuaggtpxqisdlyloznkarxofzeeyvteynluofuhbllyiszszbwnsglqjkignusarxsjvctpgiwnhdufmfpanfwxjwlmhgllzsmdpncbwnsbdtsvrjybynifywkulqnzprcxockbhrhvnwxrkvwumyieazclcviumvormynbryaziijpdinwatwqppamfiqfiojgwkvfzyxadyfjrgmtttvlgkqghgbcfhkigfojjkhskzenlpasyozcsuccdxhulcubsgomvcrbqwakrraesfifecmoztayrdjicypakrrneulfbqqxtrdelggedvloebqaztmfyfkhuonrognejxpesmwgnmnnnamvkxqvzrgzdqtvuhccryeowywmbixktnkqnwzlzfvloyqcageugmjqihyjxhssmhkfzxpzxmgpjgsduogfolnkkqizitbvvgrkczmojxnabruwwzxxqcevdwvtiigwckpxnnxxxdhxpgomncttjutrsvyrqcfwxhexhaguddkiesmfrqfjfdaqbkeqinwicphktffuwcazlmerdhraufbpcznbuipmymipxbsdhuesmcwnkdvilqbnkaglloswcpqzdggnhjdkkumfuzihilrpcvemwllicoqiugobhrwdxtoefynqmccamhdtxujfudbglmiwqklriolqfkknbmindxtljulnxhipsieyohnczddabrxzjmompbtnnxvivmoyfzfrxlufowtqzojfclmatthjtbhotdoheusnpirwicbtyrcuojsdmfcx\"\n",
    "longest_palindrome(s)"
   ]
  },
  {
   "cell_type": "code",
   "execution_count": 26,
   "metadata": {},
   "outputs": [],
   "source": [
    "def longest_palindrome(s: str) -> str:\n",
    "    # Preprocess the string\n",
    "    t = \"#\".join(\"^{}$\".format(s))\n",
    "    n = len(t)\n",
    "\n",
    "    # Initialize variables\n",
    "    p = [0] * n\n",
    "    center = right = 0\n",
    "    max_len = start = 0\n",
    "\n",
    "    # Iterate over the string\n",
    "    for i in range(1, n - 1):\n",
    "        if right > i:\n",
    "            p[i] = min(right - i, p[2 * center - i])\n",
    "        while t[i + p[i] + 1] == t[i - p[i] - 1]:\n",
    "            p[i] += 1\n",
    "        if i + p[i] > right:\n",
    "            center, right = i, i + p[i]\n",
    "        if p[i] > max_len:\n",
    "            max_len, start = p[i], (i - p[i]) // 2\n",
    "\n",
    "    return s[start : start + max_len]\n",
    "\n",
    "\n",
    "assert longest_palindrome(\"babad\") == \"bab\"\n",
    "assert longest_palindrome(\"cbbd\") == \"bb\"\n",
    "assert longest_palindrome(\"a\") == \"a\"\n",
    "assert longest_palindrome(\"ac\") == \"a\"\n",
    "assert longest_palindrome(\"bb\") == \"bb\"\n",
    "assert longest_palindrome(\"racecar\") == \"racecar\"\n",
    "assert longest_palindrome(\"level\") == \"level\"\n",
    "assert longest_palindrome(\"deified\") == \"deified\"\n",
    "assert longest_palindrome(\"abacdfgdcaba\") == \"aba\"\n",
    "assert longest_palindrome(\"forgeeksskeegfor\") == \"geeksskeeg\""
   ]
  },
  {
   "cell_type": "code",
   "execution_count": null,
   "metadata": {},
   "outputs": [],
   "source": [
    "# Hello World\n"
   ]
  },
  {
   "cell_type": "code",
   "execution_count": 29,
   "metadata": {},
   "outputs": [
    {
     "data": {
      "text/plain": [
       "[1, 1, 1, 2, 3, 4, 6, 9, 9, 10]"
      ]
     },
     "execution_count": 29,
     "metadata": {},
     "output_type": "execute_result"
    }
   ],
   "source": [
    "from collections import defaultdict\n",
    "\n",
    "\n",
    "def analyze_logs(timestamps):\n",
    "    # Create a dictionary to store the frequency of each timestamp\n",
    "    freq = defaultdict(int)\n",
    "\n",
    "    # Create a new list to store the filtered timestamps\n",
    "    filtered = []\n",
    "\n",
    "    # Iterate over the timestamps and add them to the filtered list if they occur less than 4 times in the same second\n",
    "    for timestamp in timestamps:\n",
    "        if freq[timestamp] < 3:\n",
    "            filtered.append(timestamp)\n",
    "            freq[timestamp] += 1\n",
    "\n",
    "    return filtered\n",
    "\n",
    "\n",
    "L = [1, 1, 1, 1, 2, 3, 4, 6, 9, 9, 10]\n",
    "analyze_logs(L)"
   ]
  },
  {
   "cell_type": "code",
   "execution_count": 32,
   "metadata": {},
   "outputs": [
    {
     "ename": "KeyError",
     "evalue": "1",
     "output_type": "error",
     "traceback": [
      "\u001b[1;31m---------------------------------------------------------------------------\u001b[0m",
      "\u001b[1;31mKeyError\u001b[0m                                  Traceback (most recent call last)",
      "Cell \u001b[1;32mIn[32], line 32\u001b[0m\n\u001b[0;32m     28\u001b[0m     \u001b[39mreturn\u001b[39;00m filtered\n\u001b[0;32m     31\u001b[0m L \u001b[39m=\u001b[39m [\u001b[39m1\u001b[39m, \u001b[39m1\u001b[39m, \u001b[39m1\u001b[39m, \u001b[39m1\u001b[39m, \u001b[39m2\u001b[39m, \u001b[39m3\u001b[39m, \u001b[39m4\u001b[39m, \u001b[39m6\u001b[39m, \u001b[39m9\u001b[39m, \u001b[39m9\u001b[39m, \u001b[39m10\u001b[39m]\n\u001b[1;32m---> 32\u001b[0m analyze_logs(L, \u001b[39m3\u001b[39;49m, \u001b[39m5\u001b[39;49m)\n",
      "Cell \u001b[1;32mIn[32], line 18\u001b[0m, in \u001b[0;36manalyze_logs\u001b[1;34m(timestamps, max_requests, max_seconds)\u001b[0m\n\u001b[0;32m     15\u001b[0m \u001b[39mfor\u001b[39;00m timestamp \u001b[39min\u001b[39;00m timestamps:\n\u001b[0;32m     16\u001b[0m     \u001b[39m# Remove timestamps that are outside the time window\u001b[39;00m\n\u001b[0;32m     17\u001b[0m     \u001b[39mwhile\u001b[39;00m window \u001b[39mand\u001b[39;00m timestamp \u001b[39m-\u001b[39m window[\u001b[39m0\u001b[39m] \u001b[39m>\u001b[39m\u001b[39m=\u001b[39m max_seconds:\n\u001b[1;32m---> 18\u001b[0m         freq\u001b[39m.\u001b[39;49mpop(window\u001b[39m.\u001b[39;49mpopleft())\n\u001b[0;32m     20\u001b[0m     \u001b[39m# Add the current timestamp to the window and update the frequency\u001b[39;00m\n\u001b[0;32m     21\u001b[0m     window\u001b[39m.\u001b[39mappend(timestamp)\n",
      "\u001b[1;31mKeyError\u001b[0m: 1"
     ]
    }
   ],
   "source": [
    "from collections import deque\n",
    "\n",
    "\n",
    "def analyze_logs(timestamps, max_requests, max_seconds):\n",
    "    # Create a deque to store the timestamps within the time window\n",
    "    window = deque()\n",
    "\n",
    "    # Create a dictionary to store the frequency of each timestamp\n",
    "    freq = {}\n",
    "\n",
    "    # Create a new list to store the filtered timestamps\n",
    "    filtered = []\n",
    "\n",
    "    # Iterate over the timestamps and add them to the filtered list if they occur less than max_requests times within the time window\n",
    "    for timestamp in timestamps:\n",
    "        # Remove timestamps that are outside the time window\n",
    "        while window and timestamp - window[0] >= max_seconds:\n",
    "            freq.pop(window.popleft())\n",
    "\n",
    "        # Add the current timestamp to the window and update the frequency\n",
    "        window.append(timestamp)\n",
    "        freq[timestamp] = freq.get(timestamp, 0) + 1\n",
    "\n",
    "        # Add the current timestamp to the filtered list if it occurs less than max_requests times within the time window\n",
    "        if freq[timestamp] < max_requests + 1:\n",
    "            filtered.append(timestamp)\n",
    "\n",
    "    return filtered\n",
    "\n",
    "\n",
    "L = [1, 1, 1, 1, 2, 3, 4, 6, 9, 9, 10]\n",
    "analyze_logs(L, 3, 5)"
   ]
  },
  {
   "cell_type": "code",
   "execution_count": 34,
   "metadata": {},
   "outputs": [
    {
     "data": {
      "text/plain": [
       "1548008755920"
      ]
     },
     "execution_count": 34,
     "metadata": {},
     "output_type": "execute_result"
    }
   ],
   "source": [
    "def fib(n):\n",
    "    # Create a cache to store the results of subproblems\n",
    "    cache = {}\n",
    "\n",
    "    # Define the recursive helper function\n",
    "    def fib_helper(n):\n",
    "        # If the subproblem has not yet been solved, solve it\n",
    "        if n not in cache:\n",
    "            # Base cases\n",
    "            if n == 0:\n",
    "                cache[n] = 0\n",
    "            elif n == 1:\n",
    "                cache[n] = 1\n",
    "            # Recursive step\n",
    "            else:\n",
    "                cache[n] = fib_helper(n - 1) + fib_helper(n - 2)\n",
    "\n",
    "        # Return the result of the subproblem\n",
    "        return cache[n]\n",
    "\n",
    "    # Return the result of the helper function\n",
    "    return fib_helper(n)\n",
    "\n",
    "\n",
    "fib(60)"
   ]
  },
  {
   "cell_type": "code",
   "execution_count": 37,
   "metadata": {},
   "outputs": [
    {
     "data": {
      "text/plain": [
       "2"
      ]
     },
     "execution_count": 37,
     "metadata": {},
     "output_type": "execute_result"
    }
   ],
   "source": [
    "from collections import Counter\n",
    "\n",
    "L = [1, 2, 3, 3]\n",
    "\n",
    "counter = Counter(L)\n",
    "counter.most_common()[0][1]"
   ]
  },
  {
   "cell_type": "code",
   "execution_count": null,
   "metadata": {},
   "outputs": [],
   "source": [
    "from typing import List\n",
    "\n",
    "\n",
    "def max_frequency(nums: List[int], k: int) -> int:\n",
    "    max_freq = 0\n",
    "\n",
    "    # Sort the numbers first\n",
    "    nums.sort()\n",
    "\n",
    "    i, j = 0, 0\n",
    "    curr_sum = 0\n",
    "    while j < len(nums):\n",
    "        curr_sum += nums[j]\n",
    "        # Since the array is sorted\n",
    "        # The largest number for any window at any time is the current/jth element\n",
    "        # So we want to know how many moves will it take to make all elements of this window = j\n",
    "        # If each element becomes j, that means total sum will be nums[j] * number of elements in window\n",
    "        # And we want that to be either less than or equal to sum of this window + moves we have\n",
    "        # Because number of moves means how many we can add to a window so that each element is the same\n",
    "        while nums[j] * (j - i + 1) > curr_sum + k:\n",
    "            curr_sum -= nums[i]\n",
    "            i += 1\n",
    "\n",
    "        # If we are here, that means, this is a valid window\n",
    "        max_freq = max(max_freq, j - i + 1)\n",
    "        j += 1\n",
    "\n",
    "    return max_freq"
   ]
  },
  {
   "cell_type": "code",
   "execution_count": null,
   "metadata": {},
   "outputs": [],
   "source": []
  },
  {
   "cell_type": "code",
   "execution_count": null,
   "metadata": {},
   "outputs": [],
   "source": []
  }
 ],
 "metadata": {
  "kernelspec": {
   "display_name": "CaseTA",
   "language": "python",
   "name": "python3"
  },
  "language_info": {
   "codemirror_mode": {
    "name": "ipython",
    "version": 3
   },
   "file_extension": ".py",
   "mimetype": "text/x-python",
   "name": "python",
   "nbconvert_exporter": "python",
   "pygments_lexer": "ipython3",
   "version": "3.10.9"
  },
  "orig_nbformat": 4
 },
 "nbformat": 4,
 "nbformat_minor": 2
}
