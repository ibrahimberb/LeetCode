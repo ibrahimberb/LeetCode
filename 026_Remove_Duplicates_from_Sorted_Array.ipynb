{
 "cells": [
  {
   "attachments": {},
   "cell_type": "markdown",
   "metadata": {},
   "source": [
    "# 26. Remove Duplicates from Sorted Array"
   ]
  },
  {
   "attachments": {},
   "cell_type": "markdown",
   "metadata": {},
   "source": [
    "https://leetcode.com/problems/remove-duplicates-from-sorted-array/"
   ]
  },
  {
   "cell_type": "code",
   "execution_count": 11,
   "metadata": {},
   "outputs": [
    {
     "name": "stdout",
     "output_type": "stream",
     "text": [
      "Current number: 0\n",
      "Adding 0\n",
      "Current number: 0\n",
      "Current number: 1\n",
      "Adding 1\n",
      "Current number: 1\n",
      "Current number: 1\n",
      "Current number: 2\n",
      "Adding 2\n",
      "Current number: 2\n",
      "Current number: 3\n",
      "Adding 3\n",
      "Current number: 3\n"
     ]
    },
    {
     "ename": "IndexError",
     "evalue": "list index out of range",
     "output_type": "error",
     "traceback": [
      "\u001b[1;31m---------------------------------------------------------------------------\u001b[0m",
      "\u001b[1;31mIndexError\u001b[0m                                Traceback (most recent call last)",
      "Cell \u001b[1;32mIn[11], line 18\u001b[0m\n\u001b[0;32m     14\u001b[0m     \u001b[39mreturn\u001b[39;00m \u001b[39mlen\u001b[39m(seen)\n\u001b[0;32m     17\u001b[0m L \u001b[39m=\u001b[39m [\u001b[39m0\u001b[39m,\u001b[39m0\u001b[39m,\u001b[39m1\u001b[39m,\u001b[39m1\u001b[39m,\u001b[39m1\u001b[39m,\u001b[39m2\u001b[39m,\u001b[39m2\u001b[39m,\u001b[39m3\u001b[39m,\u001b[39m3\u001b[39m,\u001b[39m4\u001b[39m]\n\u001b[1;32m---> 18\u001b[0m k \u001b[39m=\u001b[39m remove_duplicates(L)\n\u001b[0;32m     19\u001b[0m \u001b[39mprint\u001b[39m(k)\n\u001b[0;32m     20\u001b[0m \u001b[39mprint\u001b[39m(L)\n",
      "Cell \u001b[1;32mIn[11], line 12\u001b[0m, in \u001b[0;36mremove_duplicates\u001b[1;34m(nums)\u001b[0m\n\u001b[0;32m     10\u001b[0m         seen\u001b[39m.\u001b[39madd(num)\n\u001b[0;32m     11\u001b[0m     \u001b[39melse\u001b[39;00m:\n\u001b[1;32m---> 12\u001b[0m         nums\u001b[39m.\u001b[39mremove(nums[i])\n\u001b[0;32m     14\u001b[0m \u001b[39mreturn\u001b[39;00m \u001b[39mlen\u001b[39m(seen)\n",
      "\u001b[1;31mIndexError\u001b[0m: list index out of range"
     ]
    }
   ],
   "source": [
    "from typing import List\n",
    "\n",
    "def remove_duplicates(nums: List[int]) -> int:\n",
    "    seen = set()\n",
    "    nums_copy = nums.copy()\n",
    "    for i, num in enumerate(nums_copy):\n",
    "        print(f\"Current number: {num}\")\n",
    "        if num not in seen:\n",
    "            print(f\"Adding {num}\")\n",
    "            seen.add(num)\n",
    "        else:\n",
    "            nums.remove(nums_copy[i])\n",
    "\n",
    "    return len(seen)\n",
    "\n",
    "\n",
    "L = [0,0,1,1,1,2,2,3,3,4]\n",
    "k = remove_duplicates(L)\n",
    "print(k)\n",
    "print(L)"
   ]
  },
  {
   "cell_type": "code",
   "execution_count": 12,
   "metadata": {},
   "outputs": [
    {
     "data": {
      "text/plain": [
       "['apple', 'cherry', 'banana']"
      ]
     },
     "execution_count": 12,
     "metadata": {},
     "output_type": "execute_result"
    }
   ],
   "source": [
    "L = [\"apple\", \"banana\", \"cherry\", \"banana\"]\n",
    "L.remove(\"banana\")\n",
    "L"
   ]
  },
  {
   "cell_type": "code",
   "execution_count": null,
   "metadata": {},
   "outputs": [],
   "source": []
  },
  {
   "cell_type": "code",
   "execution_count": null,
   "metadata": {},
   "outputs": [],
   "source": []
  }
 ],
 "metadata": {
  "kernelspec": {
   "display_name": "CaseTA",
   "language": "python",
   "name": "python3"
  },
  "language_info": {
   "codemirror_mode": {
    "name": "ipython",
    "version": 3
   },
   "file_extension": ".py",
   "mimetype": "text/x-python",
   "name": "python",
   "nbconvert_exporter": "python",
   "pygments_lexer": "ipython3",
   "version": "3.10.9"
  },
  "orig_nbformat": 4
 },
 "nbformat": 4,
 "nbformat_minor": 2
}
