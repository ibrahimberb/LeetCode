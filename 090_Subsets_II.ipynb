{
 "cells": [
  {
   "attachments": {},
   "cell_type": "markdown",
   "metadata": {},
   "source": [
    "# 90. Subsets II\n",
    "\n",
    "Given an integer array nums that may contain duplicates, return all possible \n",
    "subsets\n",
    " (the power set).\n",
    "\n",
    "The solution set must not contain duplicate subsets. Return the solution in any order.\n",
    "\n",
    " \n",
    "**Example 1:**\n",
    "```\n",
    "Input: nums = [1,2,2]\n",
    "Output: [[],[1],[1,2],[1,2,2],[2],[2,2]]\n",
    "```\n",
    "\n",
    "**Example 2:**\n",
    "```\n",
    "Input: nums = [0]\n",
    "Output: [[],[0]]\n",
    "``` \n",
    "\n",
    "**Constraints:**\n",
    "```\n",
    "1 <= nums.length <= 10\n",
    "-10 <= nums[i] <= 10\n",
    "```"
   ]
  },
  {
   "cell_type": "code",
   "execution_count": 5,
   "metadata": {},
   "outputs": [
    {
     "data": {
      "text/plain": [
       "[[], [1], [2], [1, 2], [2, 2], [1, 2, 2]]"
      ]
     },
     "execution_count": 5,
     "metadata": {},
     "output_type": "execute_result"
    }
   ],
   "source": [
    "from itertools import combinations\n",
    "\n",
    "\n",
    "def get_subsets(nums):\n",
    "    subsets = []\n",
    "    for i in range(len(nums) + 1):\n",
    "        for subset in combinations(nums, i):\n",
    "            if sorted(subset) not in subsets:\n",
    "                subsets.append(sorted(subset))\n",
    "\n",
    "    return subsets\n",
    "\n",
    "\n",
    "nums = [1, 2, 2]\n",
    "get_subsets(nums)"
   ]
  },
  {
   "cell_type": "code",
   "execution_count": 8,
   "metadata": {},
   "outputs": [
    {
     "data": {
      "text/plain": [
       "[[], [1], [2], [1, 2], [2, 2], [1, 2, 2]]"
      ]
     },
     "execution_count": 8,
     "metadata": {},
     "output_type": "execute_result"
    }
   ],
   "source": [
    "def get_subsets(nums):\n",
    "    res = [[]]\n",
    "    nums.sort()\n",
    "    for i in range(len(nums)):\n",
    "        if i == 0 or nums[i] != nums[i - 1]:\n",
    "            k = len(res)\n",
    "        for j in range(len(res) - k, len(res)):\n",
    "            res.append(res[j] + [nums[i]])\n",
    "    return res\n",
    "\n",
    "\n",
    "nums = [1, 2, 2]\n",
    "get_subsets(nums)"
   ]
  }
 ],
 "metadata": {
  "kernelspec": {
   "display_name": "CaseTA",
   "language": "python",
   "name": "python3"
  },
  "language_info": {
   "codemirror_mode": {
    "name": "ipython",
    "version": 3
   },
   "file_extension": ".py",
   "mimetype": "text/x-python",
   "name": "python",
   "nbconvert_exporter": "python",
   "pygments_lexer": "ipython3",
   "version": "3.10.9"
  },
  "orig_nbformat": 4
 },
 "nbformat": 4,
 "nbformat_minor": 2
}
