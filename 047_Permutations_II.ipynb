{
 "cells": [
  {
   "cell_type": "markdown",
   "metadata": {},
   "source": [
    "# 47. Permutations II\n",
    "\n",
    "Given a collection of numbers, nums, that might contain duplicates, return all possible unique permutations in any order.\n",
    " \n",
    "\n",
    "**Example 1:**\n",
    "```\n",
    "Input: nums = [1,1,2]\n",
    "Output:\n",
    "[[1,1,2],\n",
    " [1,2,1],\n",
    " [2,1,1]]\n",
    "```\n",
    "\n",
    "**Example 2:**\n",
    "```\n",
    "Input: nums = [1,2,3]\n",
    "Output: [[1,2,3],[1,3,2],[2,1,3],[2,3,1],[3,1,2],[3,2,1]]\n",
    "```\n",
    "\n",
    "**Constraints:**\n",
    "```\n",
    "1 <= nums.length <= 8\n",
    "-10 <= nums[i] <= 10\n",
    "```"
   ]
  },
  {
   "cell_type": "code",
   "execution_count": 2,
   "metadata": {},
   "outputs": [],
   "source": [
    "def test_permutations_unique(fun):\n",
    "    assert sorted(fun([1, 1, 2])) == sorted([[1, 1, 2], [1, 2, 1], [2, 1, 1]])\n",
    "    assert sorted(fun([1, 2, 3])) == sorted(\n",
    "        [[1, 2, 3], [1, 3, 2], [2, 1, 3], [2, 3, 1], [3, 1, 2], [3, 2, 1]]\n",
    "    )\n",
    "    print(\"All tests passed successfully!\")"
   ]
  },
  {
   "cell_type": "code",
   "execution_count": 3,
   "metadata": {},
   "outputs": [
    {
     "name": "stdout",
     "output_type": "stream",
     "text": [
      "All tests passed successfully!\n"
     ]
    }
   ],
   "source": [
    "import itertools\n",
    "\n",
    "\n",
    "def permute_unique(nums):\n",
    "    results = set()\n",
    "    for permutation in itertools.permutations(nums):\n",
    "        results.add(permutation)\n",
    "\n",
    "    return map(list, results)\n",
    "\n",
    "test_permutations_unique(permute_unique)"
   ]
  },
  {
   "cell_type": "code",
   "execution_count": 4,
   "metadata": {},
   "outputs": [
    {
     "name": "stdout",
     "output_type": "stream",
     "text": [
      "All tests passed successfully!\n"
     ]
    }
   ],
   "source": [
    "def permute_unique(nums):\n",
    "    def backtrack(start):\n",
    "        if start == len(nums):\n",
    "            result.append(nums[:])\n",
    "        else:\n",
    "            used = set()\n",
    "            for i in range(start, len(nums)):\n",
    "                if nums[i] not in used:\n",
    "                    nums[start], nums[i] = nums[i], nums[start]\n",
    "                    backtrack(start + 1)\n",
    "                    nums[start], nums[i] = nums[i], nums[start]\n",
    "                    used.add(nums[i])\n",
    "\n",
    "    result = []\n",
    "    backtrack(0)\n",
    "    return result\n",
    "\n",
    "\n",
    "test_permutations_unique(permute_unique)"
   ]
  },
  {
   "cell_type": "code",
   "execution_count": 73,
   "metadata": {},
   "outputs": [
    {
     "name": "stdout",
     "output_type": "stream",
     "text": [
      "All tests passed successfully!\n"
     ]
    }
   ],
   "source": [
    "def permuteUnique(nums):\n",
    "    # Store the results\n",
    "    results = []\n",
    "    # Sort the array to make sure we can skip duplicates\n",
    "    path = []\n",
    "    # Keep track of which elements have been used, one for each element in the array\n",
    "    used = [False] * len(nums)\n",
    "\n",
    "    def backtrack(nums, path, used, results):\n",
    "        if len(path) == len(nums):\n",
    "            results.append(path[:])\n",
    "            return\n",
    "\n",
    "        nums.sort()\n",
    "        for i in range(len(nums)):\n",
    "            # We can skip an element if it has already been used.\n",
    "            if used[i]:\n",
    "                continue\n",
    "\n",
    "            # If the current element is same as the previous element and the previous element is not used,\n",
    "            # then we can skip this element.\n",
    "            if i > 0 and nums[i] == nums[i - 1] and not used[i - 1]:\n",
    "                continue\n",
    "\n",
    "            path.append(nums[i])  # Add the current element to the path.\n",
    "            # This is the structure of backtracking call.\n",
    "            # We first mark the element as used, then we do the recursive call,\n",
    "            # then we mark the element as unused.\n",
    "            used[i] = True\n",
    "            backtrack(nums, path, used, results)\n",
    "            used[i] = False\n",
    "            path.pop()  # Remove the last element\n",
    "\n",
    "    backtrack(nums, path, used, results)\n",
    "    return results\n",
    "\n",
    "\n",
    "test_permutations_unique(permuteUnique)"
   ]
  },
  {
   "cell_type": "code",
   "execution_count": null,
   "metadata": {},
   "outputs": [],
   "source": []
  }
 ],
 "metadata": {
  "kernelspec": {
   "display_name": "CaseTA",
   "language": "python",
   "name": "python3"
  },
  "language_info": {
   "codemirror_mode": {
    "name": "ipython",
    "version": 3
   },
   "file_extension": ".py",
   "mimetype": "text/x-python",
   "name": "python",
   "nbconvert_exporter": "python",
   "pygments_lexer": "ipython3",
   "version": "3.10.9"
  },
  "orig_nbformat": 4
 },
 "nbformat": 4,
 "nbformat_minor": 2
}
